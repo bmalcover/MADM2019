{
 "cells": [
  {
   "cell_type": "code",
   "execution_count": 1,
   "metadata": {},
   "outputs": [],
   "source": [
    "import pandas as pd\n",
    "import matplotlib.pyplot as plt\n",
    "import numpy as np"
   ]
  },
  {
   "cell_type": "markdown",
   "metadata": {},
   "source": [
    "# Ejercicio final\n",
    "---\n"
   ]
  },
  {
   "cell_type": "markdown",
   "metadata": {},
   "source": [
    "1. Debéis cargar el conjunto de datos *tips2.csv*. Cuántas columnas tiene el conjunto de datos? Cuantas observaciones? Puedes mostrar las últimas 5 observaciones?\n",
    "2. Crea una variable llamada df_2 en el que tengamos las columnas: *total_bill*, *tip*, *day* y *time* y con las filas cuyo índice sea múltiplo de 6. *Esta variable no la volveremos a usar hasta el ejercicio 11*.\n",
    "5. Si existe algún Nan en la columna de *smoker* sustitúyelo por el valor *No*. Si existe algún Nan en la columna de *total_bill* sustitúyelo por la media del *time* al cual pertenezcan.\n",
    "3. Las columnas *total_bill* y *tip* están en dólares. Pasalas a Euro según el cambio: 1 Euro = 1,11 Dólares. Crea una nueva columna llamada *total* que sea el resultado de sumar las 2 columnas que hemos operado en la pregunta anterior.\n",
    "4. Elimina la columna que tenga más valores NaN ya que al parecer no aporta ninguna información. Guarda el dataframe con el estado actual en un nuevo fichero llamado *resultado.csv*. A partir de ahora trabajaremos con este.\n",
    "5. ¿Cuantas observaciones tenemos para cada uno de los días de la semana? Crea un diccionario cuyas claves sean los días y los valores el número de observaciones. Dibuja un diagrama de barras con esta información.\n",
    "6. ¿Cuál es la propina máxima? ¿La mínima? ¿La media? ¿Cuántas propinas hay superiores a la media?\n",
    "7. ¿Que porcentaje de propina (respecto a la factura) dejan las mujeres de media? ¿Y los hombres?\n",
    "8. Si fueses el dueño en este restaurante, nos fijaremos en la columna *total_bill*. ¿Que tipo de clientes preferirias fumadores o no? ¿Para comer o para cenar?\n",
    "8. Muestra un histograma con la columna *total*, ponle título y la información de los ejes.\n",
    "9. Dibuja la relación entre la información *total* vs *tip*.\n",
    "10. Crea un fichero en formato HDF llamado *mi_hdf*. Guarda el dataframe original, con el nombre: *original*. El dataframe df_2, con el nombre: *segundo*. Comprueba que puedes cargar los dos."
   ]
  }
 ],
 "metadata": {
  "kernelspec": {
   "display_name": "Python 3",
   "language": "python",
   "name": "python3"
  },
  "language_info": {
   "codemirror_mode": {
    "name": "ipython",
    "version": 3
   },
   "file_extension": ".py",
   "mimetype": "text/x-python",
   "name": "python",
   "nbconvert_exporter": "python",
   "pygments_lexer": "ipython3",
   "version": "3.7.4"
  }
 },
 "nbformat": 4,
 "nbformat_minor": 2
}
