{
 "cells": [
  {
   "cell_type": "code",
   "execution_count": 4,
   "metadata": {},
   "outputs": [],
   "source": [
    "import pandas as pd\n"
   ]
  },
  {
   "cell_type": "markdown",
   "metadata": {},
   "source": [
    "## Ejercicio Airbnb\n",
    "\n",
    "Ejercicio que sirve para practicar las sesiones de introducción a Pandas\n",
    "\n",
    "1. Cargar el dataset AB_NYC_2019.csv\n",
    "2. Muestra las primeras 7 filas.\n",
    "3. Cuantas observaciones (filas) tiene?\n",
    "4. Cuantas columnas? Como se llama la primera columna? Y la última?\n",
    "5. Cuál es el precio mas alto que se paga por una noche de hotel? Como se llama su host\n",
    "6. Y el mínimo? Y el precio medio?\n",
    "7. Cúantas casas  se ofrecen en Manhattan?\n",
    "8. Cúantas casa tiene el host con *host_id*: 219517861 ?\n",
    "9. Crea un diccionario que tenga la siguiente información (te propongo el nombre de las claves):\n",
    "    * precio_maximo\n",
    "    * nombre_precio_maximo\n",
    "    * precio_minimo\n",
    "    * precio_medio\n",
    "    \n"
   ]
  }
 ],
 "metadata": {
  "kernelspec": {
   "display_name": "Python 3",
   "language": "python",
   "name": "python3"
  },
  "language_info": {
   "codemirror_mode": {
    "name": "ipython",
    "version": 3
   },
   "file_extension": ".py",
   "mimetype": "text/x-python",
   "name": "python",
   "nbconvert_exporter": "python",
   "pygments_lexer": "ipython3",
   "version": "3.7.4"
  }
 },
 "nbformat": 4,
 "nbformat_minor": 2
}
