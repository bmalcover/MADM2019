{
 "cells": [
  {
   "cell_type": "code",
   "execution_count": null,
   "metadata": {
    "slideshow": {
     "slide_type": "skip"
    }
   },
   "outputs": [],
   "source": [
    "# Para ver este notebook como una presentación ejecuta esta celda\n",
    "\n",
    "!jupyter nbconvert \"Introduccion.ipynb\" --ServePostProcessor.port=8911 --to slides --post serve \n"
   ]
  },
  {
   "cell_type": "markdown",
   "metadata": {
    "slideshow": {
     "slide_type": "slide"
    }
   },
   "source": [
    "# Introducción\n",
    "\n",
    "https://www.dataquest.io/blog/what-is-data-science/"
   ]
  },
  {
   "cell_type": "markdown",
   "metadata": {
    "slideshow": {
     "slide_type": "slide"
    }
   },
   "source": [
    "## El flujo del análisis de datos\n",
    "La ciencia de datos es un campo de estudio y práctica que se centra en obtener información de los datos.\n",
    "\n",
    "<img src=\"img/intro/flow.PNG\" />\n"
   ]
  },
  {
   "cell_type": "markdown",
   "metadata": {
    "slideshow": {
     "slide_type": "slide"
    }
   },
   "source": [
    "## Análisis de datos y la tecnología\n",
    "\n",
    "**Que hace un analista de datos?**\n",
    "\n",
    "*Data analyst identify, analyze, and interpret trends or patterns in complex data sets. Data analysts review computer reports, printouts, and performance indicators in order to locate and correct code problems. By doing this, they can filter and clean data.*\n",
    "\n",
    "*They also monitor performance and quality control plans to identify improvements.*\n",
    "\n",
    "*Finally, they use the results of the above responsibilities and duties in order to better work with management to prioritize business and information needs.*\n",
    "\n",
    "**Analista vs Cientifico de datos**\n",
    "\n",
    "Data analysts handle the day-to-day, using data to answer questions presented to them, while data scientists try to predict the future and frame those predictions in new questions. Or to put it another way, data analysts focus on the here and now, while data scientists extrapolate what might be\n",
    "\n",
    "~~Python~~ **Technology** is a valuable part of the data analyst’s toolbox, as it’s tailor-made for carrying out repetitive tasks and data manipulation, and anyone who has worked with large amounts of data knows just how often repetition enters into it. By having a tool that handles the grunt work, the data analysts are free to handle the more interesting and rewarding parts of the job.\n",
    "\n",
    "*Fuente*: https://www.simplilearn.com/why-python-is-essential-for-data-analysis-article\n"
   ]
  },
  {
   "cell_type": "markdown",
   "metadata": {
    "slideshow": {
     "slide_type": "slide"
    }
   },
   "source": [
    "# Python\n",
    "\n",
    "Python es un lenguaje de programación interpretado cuya filosofía hace hincapié en una sintaxis que favorezca un código legible.\n"
   ]
  },
  {
   "cell_type": "markdown",
   "metadata": {
    "slideshow": {
     "slide_type": "subslide"
    }
   },
   "source": [
    "### Que hace Python una herramienta tecnologica interesante?\n",
    "\n",
    "* Tiene una buena curva de aprendizaje.\n",
    "* Ofrece versatilidad: Tiene una vocación global.\n",
    "* Librerías y complementos.\n",
    "* Una gran comunidad.\n",
    "* Está de moda: [Data Science Jobs Report 2019](https://www.r-bloggers.com/data-science-jobs-report-2019-python-way-up-tensorflow-growing-rapidly-r-use-double-sas/), [Python for Data Science](https://datascience.berkeley.edu/blog/python-data-science/)"
   ]
  },
  {
   "cell_type": "code",
   "execution_count": 1,
   "metadata": {
    "scrolled": true,
    "slideshow": {
     "slide_type": "subslide"
    }
   },
   "outputs": [
    {
     "name": "stdout",
     "output_type": "stream",
     "text": [
      "The Zen of Python, by Tim Peters\n",
      "\n",
      "Beautiful is better than ugly.\n",
      "Explicit is better than implicit.\n",
      "Simple is better than complex.\n",
      "Complex is better than complicated.\n",
      "Flat is better than nested.\n",
      "Sparse is better than dense.\n",
      "Readability counts.\n",
      "Special cases aren't special enough to break the rules.\n",
      "Although practicality beats purity.\n",
      "Errors should never pass silently.\n",
      "Unless explicitly silenced.\n",
      "In the face of ambiguity, refuse the temptation to guess.\n",
      "There should be one-- and preferably only one --obvious way to do it.\n",
      "Although that way may not be obvious at first unless you're Dutch.\n",
      "Now is better than never.\n",
      "Although never is often better than *right* now.\n",
      "If the implementation is hard to explain, it's a bad idea.\n",
      "If the implementation is easy to explain, it may be a good idea.\n",
      "Namespaces are one honking great idea -- let's do more of those!\n"
     ]
    }
   ],
   "source": [
    "import this"
   ]
  },
  {
   "cell_type": "markdown",
   "metadata": {
    "slideshow": {
     "slide_type": "slide"
    }
   },
   "source": [
    "## Python para análisis de datos\n",
    "\n",
    "Veremos como hoy en día, Python es el / uno de los  lenguaje(s) referencia para el análisis de datos.\n"
   ]
  },
  {
   "cell_type": "markdown",
   "metadata": {
    "slideshow": {
     "slide_type": "subslide"
    }
   },
   "source": [
    "**Google trends**\n",
    "\n",
    "<img src=\"img/intro/google_trends.PNG\" />\n",
    "\n",
    "[fuente:google trends](https://trends.google.com/trends/explore?date=2016-06-08%202019-09-06&q=Python%20data%20science,R%20data%20science,Python%20Machine%20Learning,R%20Machine%20Learning)"
   ]
  },
  {
   "cell_type": "markdown",
   "metadata": {
    "slideshow": {
     "slide_type": "subslide"
    }
   },
   "source": [
    "**Python leads the 11 top Data Science, Machine Learning platforms: Trends and Analysis**\n",
    "\n",
    "El ecosistema de Python se situa como la principal plataforma, por encima de R, para el análisis de datos, la ciencia de datos y machine learning, según la encuesta de Kdnuggets una de les páginas web de referencia.\n",
    "\n",
    "<img src=\"img/intro/kdnuggets.PNG\" />\n",
    "\n",
    "[fuente:kdnuggets](https://www.kdnuggets.com/2019/05/poll-top-data-science-machine-learning-platforms.html)"
   ]
  },
  {
   "cell_type": "markdown",
   "metadata": {
    "slideshow": {
     "slide_type": "skip"
    }
   },
   "source": [
    "De hecho, Python esta el primero en el top de lenguajes según la asociación IEEE.\n",
    "\n",
    "[Recurso](https://spectrum.ieee.org/ns/IEEE_TPL_2019/index/2019/1/1/1/1/1/50/1/50/1/50/1/30/1/30/1/20/1/20/1/5/1/50/1/100/1/50/)\n",
    "\n",
    "\n",
    "\n",
    "\n",
    "*IEEE*: asociación mundial de ingenieros dedicada a la normalización y el desarrollo en áreas técnicas. Con cerca de 425 000 miembros y voluntarios en 160 países, es la mayor asociación internacional sin ánimo de lucro formada por profesionales de las nuevas tecnologías."
   ]
  },
  {
   "cell_type": "markdown",
   "metadata": {
    "slideshow": {
     "slide_type": "slide"
    }
   },
   "source": [
    "## Ecosistema de python para el análisis de datos\n",
    "\n"
   ]
  },
  {
   "cell_type": "markdown",
   "metadata": {
    "slideshow": {
     "slide_type": "slide"
    }
   },
   "source": [
    "El lenguaje de programación Python se organiza de la siguiente manera:\n",
    "* Un **núcleo** que contiene la base del lenguaje.\n",
    "* Un **interprete** que transforma nuestro código fuente en programas ejecutables.\n",
    "* Un gran conjunto de **librerias** que añaden diferentes funcionalidades al núcleo.\n",
    "\n",
    "El entorno de librerias de Python para el análisis de datos puede resumirse en:\n",
    "<img src=\"img/intro/entorno.png\" />\n",
    "\n",
    "[fuente:anaconda](https://www.anaconda.com/distribution/)"
   ]
  },
  {
   "cell_type": "markdown",
   "metadata": {
    "slideshow": {
     "slide_type": "slide"
    }
   },
   "source": [
    "Aquello que nosotros usaremos\n",
    "\n",
    "<img src=\"img/intro/entorno_real.png\" />\n"
   ]
  },
  {
   "cell_type": "markdown",
   "metadata": {
    "slideshow": {
     "slide_type": "slide"
    }
   },
   "source": [
    "<img src=\"img/intro/Anaconda_Logo.png\" />\n",
    "\n",
    "Anaconda es una distribución que contiene todo lo necesario para programar en Python: \n",
    "* El núcleo.\n",
    "* Las librerias necesarias.\n",
    "* El entorno de programación.\n"
   ]
  },
  {
   "cell_type": "markdown",
   "metadata": {
    "slideshow": {
     "slide_type": "slide"
    }
   },
   "source": [
    "Existen versiones para los sistemas operativos mas usados actualmente: Windows, macOS y Linux.\n",
    "\n",
    "Una vez instalado en nuestro ordenador podremos emperzar a programar sin la necesidad de instalar ningún software adicional.\n",
    "\n",
    "Actualmente coexisten 2 versiones de Python: 2.7 y 3.7, **nosotros usaremos la segunda**.\n",
    "\n",
    "\n",
    "[Infografia Anaconda](https://know.anaconda.com/rs/387-XNW-688/images/2019-SoDS-Infographic-Anaconda.pdf)\n",
    "\n",
    "\n",
    "\n",
    "[DESCARGA](https://www.anaconda.com/distribution/)\n"
   ]
  }
 ],
 "metadata": {
  "celltoolbar": "Slideshow",
  "kernelspec": {
   "display_name": "Python 3",
   "language": "python",
   "name": "python3"
  },
  "language_info": {
   "codemirror_mode": {
    "name": "ipython",
    "version": 3
   },
   "file_extension": ".py",
   "mimetype": "text/x-python",
   "name": "python",
   "nbconvert_exporter": "python",
   "pygments_lexer": "ipython3",
   "version": "3.7.4"
  }
 },
 "nbformat": 4,
 "nbformat_minor": 2
}
