{
 "cells": [
  {
   "cell_type": "markdown",
   "metadata": {},
   "source": [
    "# Carga de distintos formatos de datos en Python\n",
    "\n",
    "Como hemos visto []() los datos pueden encontrarse en distintos formatos. Ahora veremos como podemos cargarlos en Python y usarlos de maneras conocidas.\n",
    "\n",
    "[Repositorio con APIs](https://github.com/toddmotto/public-apis/blob/master/README.md)"
   ]
  },
  {
   "cell_type": "markdown",
   "metadata": {},
   "source": [
    "## JSON\n",
    "\n",
    "[Gramática JSON](https://www.json.org/)\n",
    "\n",
    "Un JSON se cargará en Python como un diccionario, estructura de datos que ya deberiamos conocer. Cabe recordar que un diccionario es un conjunto no ordenado de pares clave-valor, que tiene los atributos: *keys* y *values.\n",
    "\n",
    "Vamos a ver como podemos obtener un json desde una url:"
   ]
  },
  {
   "cell_type": "code",
   "execution_count": 2,
   "metadata": {},
   "outputs": [
    {
     "name": "stdout",
     "output_type": "stream",
     "text": [
      "<class 'list'>\n",
      "id\n",
      "name\n",
      "tagline\n",
      "first_brewed\n",
      "description\n",
      "image_url\n",
      "abv\n",
      "ibu\n",
      "target_fg\n",
      "target_og\n",
      "ebc\n",
      "srm\n",
      "ph\n",
      "attenuation_level\n",
      "volume\n",
      "boil_volume\n",
      "method\n",
      "ingredients\n",
      "food_pairing\n",
      "brewers_tips\n",
      "contributed_by\n"
     ]
    }
   ],
   "source": [
    "import json\n",
    "import requests\n",
    "\n",
    "response = requests.get(\"http://api.punkapi.com/v2/beers/random\" )\n",
    "todos = json.loads(response.text)\n",
    "print(type(todos))\n",
    "\n",
    "for key in todos[0].keys():\n",
    "    print(key)"
   ]
  },
  {
   "cell_type": "markdown",
   "metadata": {},
   "source": [
    "### **Ejercicio**\n",
    "\n",
    "Vamos a cargar un json desde una URL, visitad el siguiente [repositorio]() y elegid uno de los enlaces. Explorad la API y mirad que tipo de peticiones podemos hacer. Elegid una y evaluad la respuesta que os ha retornado.\n",
    "\n",
    "    1. Cuantas claves tiene el diccionario?\n",
    "    2. Mostrad cada clave con su correspondiente valor."
   ]
  },
  {
   "cell_type": "markdown",
   "metadata": {},
   "source": [
    "**También es posible crear un fichero json en Python y cargarlo desde nuestra carpeta local:**"
   ]
  },
  {
   "cell_type": "code",
   "execution_count": 38,
   "metadata": {},
   "outputs": [],
   "source": [
    "# Partimos de un string en formato json:\n",
    "\n",
    "data = {\n",
    "  \"colors\": [\n",
    "    {\n",
    "      \"color\": \"black\",\n",
    "      \"category\": \"hue\",\n",
    "      \"type\": \"primary\",\n",
    "      \"code\": {\n",
    "        \"rgba\": [255,255,255,1],\n",
    "        \"hex\": \"#000\"\n",
    "      }\n",
    "    },\n",
    "    {\n",
    "      \"color\": \"white\",\n",
    "      \"category\": \"value\",\n",
    "      \"code\": {\n",
    "        \"rgba\": [0,0,0,1],\n",
    "        \"hex\": \"#FFF\"\n",
    "      }\n",
    "    },\n",
    "    {\n",
    "      \"color\": \"red\",\n",
    "      \"category\": \"hue\",\n",
    "      \"type\": \"primary\",\n",
    "      \"code\": {\n",
    "        \"rgba\": [255,0,0,1],\n",
    "        \"hex\": \"#FF0\"\n",
    "      }\n",
    "    },\n",
    "    {\n",
    "      \"color\": \"blue\",\n",
    "      \"category\": \"hue\",\n",
    "      \"type\": \"primary\",\n",
    "      \"code\": {\n",
    "        \"rgba\": [0,0,255,1],\n",
    "        \"hex\": \"#00F\"\n",
    "      }\n",
    "    },\n",
    "    {\n",
    "      \"color\": \"yellow\",\n",
    "      \"category\": \"hue\",\n",
    "      \"type\": \"primary\",\n",
    "      \"code\": {\n",
    "        \"rgba\": [255,255,0,1],\n",
    "        \"hex\": \"#FF0\"\n",
    "      }\n",
    "    },\n",
    "    {\n",
    "      \"color\": \"green\",\n",
    "      \"category\": \"hue\",\n",
    "      \"type\": \"secondary\",\n",
    "      \"code\": {\n",
    "        \"rgba\": [0,255,0,1],\n",
    "        \"hex\": \"#0F0\"\n",
    "      }\n",
    "    },\n",
    "  ]\n",
    "}\n"
   ]
  },
  {
   "cell_type": "markdown",
   "metadata": {},
   "source": [
    "Creamos un fichero con permísos de escritura y usamos la función **dump** de la libreria json. La función dump se encuentra en muchas librerias y nos sirve para guardar estructuras de datos en ficheros.\n"
   ]
  },
  {
   "cell_type": "code",
   "execution_count": 42,
   "metadata": {},
   "outputs": [
    {
     "name": "stdout",
     "output_type": "stream",
     "text": [
      "<class 'dict'>\n"
     ]
    }
   ],
   "source": [
    "print(type(data))\n",
    "with open(\"data_file.json\", \"w\") as write_file:\n",
    "    \n",
    "    json.dump(data, write_file)\n",
    "    \n",
    "# La función dumps nos transforma nuestro json en un string de Python\n",
    "\n",
    "# json_string = json.dumps(data)"
   ]
  },
  {
   "cell_type": "markdown",
   "metadata": {},
   "source": [
    "Ahora que tenemos un fichero con la información vamos a ver como podemos leer un fichero con información json."
   ]
  },
  {
   "cell_type": "code",
   "execution_count": null,
   "metadata": {},
   "outputs": [],
   "source": [
    "with open(\"data_file.json\", \"r\") as read_file:\n",
    "    data = json.load(read_file)\n",
    "type(data)\n",
    "\n",
    "for k in data.keys():\n",
    "    print(k)"
   ]
  },
  {
   "cell_type": "markdown",
   "metadata": {},
   "source": [
    "## XML\n",
    "\n",
    "Uno de los problemas que tenemos con los archivos en formato XML, es que es necesario conocer su estructura interna antes de tratarlo. La propia [documentación](https://docs.python.org/3.7/library/xml.etree.elementtree.html#) nos advierte que: *El módulo xml.etree.ElementTree no es seguro contra datos construidos malintencionadamente. Si necesita analizar datos no confiables o no autenticados, consulte las vulnerabilidades de XML.*\n",
    "\n",
    "En este caso vamos a ver como podemos obtener la información del siguiente xml (guardado en la carpeta de datos):\n",
    "\n",
    "    <data>\n",
    "        <customer name=\"gokhan\">\n",
    "            <email>gokhan@gmail.com</email>\n",
    "            <phone>555-1234</phone>\n",
    "        </customer>\n",
    "        <customer name=\"mike\">\n",
    "            <email>mike@gmail.com</email>\n",
    "        </customer>\n",
    "        <customer name=\"john\">\n",
    "            <email>john@gmail.com</email>\n",
    "            <phone>555-4567</phone>\n",
    "        </customer>\n",
    "        <customer name=\"david\">\n",
    "            <phone>555-6472</phone>\n",
    "            <address><street>Fifth Avenue</street></address>\n",
    "        </customer>\n",
    "    </data>"
   ]
  },
  {
   "cell_type": "code",
   "execution_count": 1,
   "metadata": {},
   "outputs": [],
   "source": [
    "import xml.etree.cElementTree as et\n",
    "\n",
    "parsedXML = et.parse( \"data/test.xml\" )\n",
    "\n",
    "for node in parsedXML.getroot():\n",
    "    name = node.attrib.get('name')\n",
    "    email = node.find('email')\n",
    "    phone = node.find('phone')\n",
    "    street = node.find('address/street')\n"
   ]
  },
  {
   "cell_type": "markdown",
   "metadata": {},
   "source": [
    "**Esta misma libreria nos proporciona métodos para modificar y posteriormente guardar / exportar nuestros XML.**"
   ]
  },
  {
   "cell_type": "markdown",
   "metadata": {},
   "source": [
    "[tutorial](https://docs.python.org/3.7/library/xml.etree.elementtree.html#modifying-an-xml-file)"
   ]
  },
  {
   "cell_type": "code",
   "execution_count": 37,
   "metadata": {},
   "outputs": [],
   "source": [
    "root = parsedXML.getroot()\n",
    "\n",
    "for node in root.iter('customer'):\n",
    "    email = node.find('email')\n",
    "\n",
    "    if email is None:\n",
    "        child = et.Element(\"email\")\n",
    "        child.text = \"your@email.com\"\n",
    "        node.insert(1,child)\n",
    "\n",
    "parsedXML.write('data/output.xml')"
   ]
  },
  {
   "cell_type": "markdown",
   "metadata": {},
   "source": [
    "### **Ejercicio**\n",
    "\n",
    "Transforma este xml en un json y guardalo en un archivo llamado *prueba.json*.\n",
    "\n",
    "*ALERTA* : \n",
    "Comprueba que esta correctamente construido cargándolo otra vez"
   ]
  },
  {
   "cell_type": "code",
   "execution_count": 38,
   "metadata": {},
   "outputs": [
    {
     "name": "stdout",
     "output_type": "stream",
     "text": [
      "{'customers': [{'name': 'gokhan', 'email': 'gokhan@gmail.com', 'phone': '555-1234'}, {'name': 'mike', 'email': 'mike@gmail.com'}, {'name': 'john', 'email': 'john@gmail.com', 'phone': '555-4567'}, {'name': 'david', 'phone': '555-6472', 'street': 'Fifth Avenue'}]}\n",
      "{'name': 'gokhan', 'email': 'gokhan@gmail.com', 'phone': '555-1234'}\n",
      "{'name': 'mike', 'email': 'mike@gmail.com'}\n",
      "{'name': 'john', 'email': 'john@gmail.com', 'phone': '555-4567'}\n",
      "{'name': 'david', 'phone': '555-6472', 'street': 'Fifth Avenue'}\n"
     ]
    }
   ],
   "source": [
    "import xml.etree.cElementTree as et\n",
    "import json\n",
    "parsedXML = et.parse( \"data/test.xml\" )\n",
    "\n",
    "data =  {'customers' : []}\n",
    "\n",
    "for node in parsedXML.getroot():\n",
    "    \n",
    "    name = node.attrib.get('name')\n",
    "    email = node.find('email')\n",
    "    phone = node.find('phone')\n",
    "    street = node.find('address/street')\n",
    "    \n",
    "    data_dicc = {}\n",
    "    if name is not None:\n",
    "        \n",
    "        data_dicc[\"name\"] = name\n",
    "        \n",
    "    if email is not None:\n",
    "        \n",
    "        data_dicc[\"email\"] = email.text\n",
    "    \n",
    "    if phone is not None:\n",
    "        \n",
    "        data_dicc[\"phone\"] = phone.text\n",
    "        \n",
    "    if street is not None:\n",
    "        \n",
    "        data_dicc[\"street\"] = street.text\n",
    "\n",
    "    data[\"customers\"].append(data_dicc)\n",
    "\n",
    "\n",
    "print(data)\n",
    "\n",
    "with open(\"data_file.json\", \"w\") as write_file:\n",
    "    \n",
    "    json.dump(data, write_file)\n",
    "    \n",
    "with open(\"data_file.json\", \"r\") as read_file:\n",
    "    datos = json.load(read_file)\n",
    "\n",
    "\n",
    "    for k in range(len(datos[\"customers\"])):\n",
    "        print(datos[\"customers\"][k])"
   ]
  },
  {
   "cell_type": "markdown",
   "metadata": {},
   "source": [
    "## CSV\n",
    "*Comma Separated Value* es el formato que relacionamos con las hojas de cálculo, Python tiene una libreria dedicada a este formato: **Pandas**"
   ]
  },
  {
   "cell_type": "code",
   "execution_count": null,
   "metadata": {},
   "outputs": [],
   "source": [
    "import pandas as pd"
   ]
  },
  {
   "cell_type": "code",
   "execution_count": null,
   "metadata": {},
   "outputs": [],
   "source": [
    "df = pd.read_csv(\"SacramentocrimeJanuary2006.csv\")\n",
    "df"
   ]
  },
  {
   "cell_type": "markdown",
   "metadata": {},
   "source": [
    "En este [enlace](https://pandas.pydata.org/pandas-docs/stable/generated/pandas.read_excel.html) podemos ver como también tenemos la posibilidad de cargar una hoja excel en el formato Pandas. Evidentemente, así como en las demas liberias, tenemos funciones para exportar nuestra información a diferentes formatos.\n",
    "\n",
    "Dedicaremos las próximas sesiones a esta interesante libreria"
   ]
  }
 ],
 "metadata": {
  "kernelspec": {
   "display_name": "Python 3",
   "language": "python",
   "name": "python3"
  },
  "language_info": {
   "codemirror_mode": {
    "name": "ipython",
    "version": 3
   },
   "file_extension": ".py",
   "mimetype": "text/x-python",
   "name": "python",
   "nbconvert_exporter": "python",
   "pygments_lexer": "ipython3",
   "version": "3.7.4"
  }
 },
 "nbformat": 4,
 "nbformat_minor": 2
}
