{
 "cells": [
  {
   "cell_type": "markdown",
   "metadata": {
    "slideshow": {
     "slide_type": "slide"
    }
   },
   "source": [
    "Creación de dataframes y almacenamiento\n",
    "\n",
    "Por lo general, la creación de dataframes **surge por la necesidad de combinar resultados de diferentes pruebas o muestreos**. En este bloque veremos como combinar series de muestras en un único dataframe. Hay muchas maneras de hacerlo. Aquí os enseñamos la que nosotros consideramos más rápida.\n"
   ]
  },
  {
   "cell_type": "markdown",
   "metadata": {
    "slideshow": {
     "slide_type": "slide"
    }
   },
   "source": [
    "## Contenido\n",
    "\n",
    "- M2_0 Introducción a la estructura DataFrame: características, carga y acceso.\n",
    "- **M2_1 Creación y Almacenamiento.**\n",
    "- M2_2 Visualización con pandas.\n",
    "- M2_3 Otras operaciones con DataFrames: agrupaciones de datos.\n",
    "- M2_4 Gestionando datos perdidos.\n",
    "- M2_5 Series temporales"
   ]
  },
  {
   "cell_type": "code",
   "execution_count": null,
   "metadata": {},
   "outputs": [],
   "source": [
    "import pandas as pd"
   ]
  },
  {
   "cell_type": "markdown",
   "metadata": {},
   "source": [
    "##  Creación de un Dataframe\n",
    "\n",
    "La siguiente sentencia muestra cómo se crea un DataFrame vacío."
   ]
  },
  {
   "cell_type": "code",
   "execution_count": 1,
   "metadata": {
    "slideshow": {
     "slide_type": "slide"
    }
   },
   "outputs": [
    {
     "name": "stdout",
     "output_type": "stream",
     "text": [
      "<class 'pandas.core.frame.DataFrame'>\n",
      "Index([], dtype='object')\n",
      "(0, 0)\n"
     ]
    }
   ],
   "source": [
    "df = pd.DataFrame()\n",
    "print(type(df))\n",
    "print(df.columns)\n",
    "print(df.shape)"
   ]
  },
  {
   "cell_type": "markdown",
   "metadata": {
    "slideshow": {
     "slide_type": "slide"
    }
   },
   "source": [
    "Necesitamos datos para rellenar el dataframe.\n",
    "\n",
    "Vamos a crear varias series de datos (listas) para realizar pruebas. \n",
    "\n",
    "**Importante**: Las series han de tener la misma longitud!"
   ]
  },
  {
   "cell_type": "code",
   "execution_count": 2,
   "metadata": {},
   "outputs": [],
   "source": [
    "nombre = [\"Daenerys\",\"Jon\",\"Tyrion\",\"Arya\",\"Eddard\",\"Sansa\",\"Cersei\",\"Jaime\",\"Joffrrey\",\"Khal\"]\n",
    "familia = [\"Targaryen\",\"Snow\",\"Lannister\",\"Stark\",\"Stark\",\"Stark\",\"Lannister\",\"Lannister\",\"Lannister\",\"Drogo\"]"
   ]
  },
  {
   "cell_type": "code",
   "execution_count": 3,
   "metadata": {},
   "outputs": [
    {
     "name": "stdout",
     "output_type": "stream",
     "text": [
      "10\n",
      "10\n"
     ]
    }
   ],
   "source": [
    "print(len(nombre)) \n",
    "print(len(familia))"
   ]
  },
  {
   "cell_type": "markdown",
   "metadata": {
    "slideshow": {
     "slide_type": "slide"
    }
   },
   "source": [
    "### Rellenamos el dataframe con las listas que acabamos de crear\n",
    "\n",
    "Las columnas de un dataframe se pueden crear dinámicamente mediante la assignación de una serie al nombre de la columna. Pandas creará la columna con la assignación.\n",
    "\n",
    "La primera columna que se añade al DataFrame es la que fija el tamaño que deben tener las demás. Recordad que todas las columnas deben tener la misma longitud.\n",
    "\n",
    "A continuación mostramos cómo se pueden crear las columnas de los datos anteriores."
   ]
  },
  {
   "cell_type": "code",
   "execution_count": 4,
   "metadata": {
    "slideshow": {
     "slide_type": "-"
    }
   },
   "outputs": [],
   "source": [
    "df[\"nombre\"] = nombre  \n",
    "df[\"familia\"] = familia "
   ]
  },
  {
   "cell_type": "code",
   "execution_count": 5,
   "metadata": {},
   "outputs": [
    {
     "data": {
      "text/html": [
       "<div>\n",
       "<style scoped>\n",
       "    .dataframe tbody tr th:only-of-type {\n",
       "        vertical-align: middle;\n",
       "    }\n",
       "\n",
       "    .dataframe tbody tr th {\n",
       "        vertical-align: top;\n",
       "    }\n",
       "\n",
       "    .dataframe thead th {\n",
       "        text-align: right;\n",
       "    }\n",
       "</style>\n",
       "<table border=\"1\" class=\"dataframe\">\n",
       "  <thead>\n",
       "    <tr style=\"text-align: right;\">\n",
       "      <th></th>\n",
       "      <th>nombre</th>\n",
       "      <th>familia</th>\n",
       "    </tr>\n",
       "  </thead>\n",
       "  <tbody>\n",
       "    <tr>\n",
       "      <th>0</th>\n",
       "      <td>Daenerys</td>\n",
       "      <td>Targaryen</td>\n",
       "    </tr>\n",
       "    <tr>\n",
       "      <th>1</th>\n",
       "      <td>Jon</td>\n",
       "      <td>Snow</td>\n",
       "    </tr>\n",
       "    <tr>\n",
       "      <th>2</th>\n",
       "      <td>Tyrion</td>\n",
       "      <td>Lannister</td>\n",
       "    </tr>\n",
       "    <tr>\n",
       "      <th>3</th>\n",
       "      <td>Arya</td>\n",
       "      <td>Stark</td>\n",
       "    </tr>\n",
       "    <tr>\n",
       "      <th>4</th>\n",
       "      <td>Eddard</td>\n",
       "      <td>Stark</td>\n",
       "    </tr>\n",
       "    <tr>\n",
       "      <th>5</th>\n",
       "      <td>Sansa</td>\n",
       "      <td>Stark</td>\n",
       "    </tr>\n",
       "    <tr>\n",
       "      <th>6</th>\n",
       "      <td>Cersei</td>\n",
       "      <td>Lannister</td>\n",
       "    </tr>\n",
       "    <tr>\n",
       "      <th>7</th>\n",
       "      <td>Jaime</td>\n",
       "      <td>Lannister</td>\n",
       "    </tr>\n",
       "    <tr>\n",
       "      <th>8</th>\n",
       "      <td>Joffrrey</td>\n",
       "      <td>Lannister</td>\n",
       "    </tr>\n",
       "    <tr>\n",
       "      <th>9</th>\n",
       "      <td>Khal</td>\n",
       "      <td>Drogo</td>\n",
       "    </tr>\n",
       "  </tbody>\n",
       "</table>\n",
       "</div>"
      ],
      "text/plain": [
       "     nombre    familia\n",
       "0  Daenerys  Targaryen\n",
       "1       Jon       Snow\n",
       "2    Tyrion  Lannister\n",
       "3      Arya      Stark\n",
       "4    Eddard      Stark\n",
       "5     Sansa      Stark\n",
       "6    Cersei  Lannister\n",
       "7     Jaime  Lannister\n",
       "8  Joffrrey  Lannister\n",
       "9      Khal      Drogo"
      ]
     },
     "execution_count": 5,
     "metadata": {},
     "output_type": "execute_result"
    }
   ],
   "source": [
    "df"
   ]
  },
  {
   "cell_type": "markdown",
   "metadata": {
    "slideshow": {
     "slide_type": "slide"
    }
   },
   "source": [
    "### ¿Qué ocurrirá si intentamos añadir una serie de diferente longitud? \n"
   ]
  },
  {
   "cell_type": "code",
   "execution_count": 6,
   "metadata": {
    "slideshow": {
     "slide_type": "fragment"
    }
   },
   "outputs": [],
   "source": [
    "# genero = [0,1,0] \n",
    "# df[\"genero\"] = genero "
   ]
  },
  {
   "cell_type": "code",
   "execution_count": 7,
   "metadata": {},
   "outputs": [
    {
     "name": "stdout",
     "output_type": "stream",
     "text": [
      "(10, 2)\n",
      "Index([u'nombre', u'familia'], dtype='object')\n",
      "RangeIndex(start=0, stop=10, step=1)\n"
     ]
    }
   ],
   "source": [
    "print(df.shape)\n",
    "print(df.columns)\n",
    "print(df.index)"
   ]
  },
  {
   "cell_type": "markdown",
   "metadata": {
    "slideshow": {
     "slide_type": "slide"
    }
   },
   "source": [
    "Ahora ya sabemos cómo añadir nuevas columnas al DataFrame dinamicamente. Pero, ¿Cómo añadimos filas?\n",
    "\n",
    "En este caso la [siguiente función](https://pandas.pydata.org/pandas-docs/stable/reference/api/pandas.DataFrame.append.html) nos será de gran ayuda.\n"
   ]
  },
  {
   "cell_type": "markdown",
   "metadata": {},
   "source": [
    "Primer intento:"
   ]
  },
  {
   "cell_type": "code",
   "execution_count": 8,
   "metadata": {},
   "outputs": [
    {
     "data": {
      "text/html": [
       "<div>\n",
       "<style scoped>\n",
       "    .dataframe tbody tr th:only-of-type {\n",
       "        vertical-align: middle;\n",
       "    }\n",
       "\n",
       "    .dataframe tbody tr th {\n",
       "        vertical-align: top;\n",
       "    }\n",
       "\n",
       "    .dataframe thead th {\n",
       "        text-align: right;\n",
       "    }\n",
       "</style>\n",
       "<table border=\"1\" class=\"dataframe\">\n",
       "  <thead>\n",
       "    <tr style=\"text-align: right;\">\n",
       "      <th></th>\n",
       "      <th>0</th>\n",
       "      <th>familia</th>\n",
       "      <th>nombre</th>\n",
       "    </tr>\n",
       "  </thead>\n",
       "  <tbody>\n",
       "    <tr>\n",
       "      <th>0</th>\n",
       "      <td>NaN</td>\n",
       "      <td>Targaryen</td>\n",
       "      <td>Daenerys</td>\n",
       "    </tr>\n",
       "    <tr>\n",
       "      <th>1</th>\n",
       "      <td>NaN</td>\n",
       "      <td>Snow</td>\n",
       "      <td>Jon</td>\n",
       "    </tr>\n",
       "    <tr>\n",
       "      <th>2</th>\n",
       "      <td>NaN</td>\n",
       "      <td>Lannister</td>\n",
       "      <td>Tyrion</td>\n",
       "    </tr>\n",
       "    <tr>\n",
       "      <th>3</th>\n",
       "      <td>NaN</td>\n",
       "      <td>Stark</td>\n",
       "      <td>Arya</td>\n",
       "    </tr>\n",
       "    <tr>\n",
       "      <th>4</th>\n",
       "      <td>NaN</td>\n",
       "      <td>Stark</td>\n",
       "      <td>Eddard</td>\n",
       "    </tr>\n",
       "    <tr>\n",
       "      <th>5</th>\n",
       "      <td>NaN</td>\n",
       "      <td>Stark</td>\n",
       "      <td>Sansa</td>\n",
       "    </tr>\n",
       "    <tr>\n",
       "      <th>6</th>\n",
       "      <td>NaN</td>\n",
       "      <td>Lannister</td>\n",
       "      <td>Cersei</td>\n",
       "    </tr>\n",
       "    <tr>\n",
       "      <th>7</th>\n",
       "      <td>NaN</td>\n",
       "      <td>Lannister</td>\n",
       "      <td>Jaime</td>\n",
       "    </tr>\n",
       "    <tr>\n",
       "      <th>8</th>\n",
       "      <td>NaN</td>\n",
       "      <td>Lannister</td>\n",
       "      <td>Joffrrey</td>\n",
       "    </tr>\n",
       "    <tr>\n",
       "      <th>9</th>\n",
       "      <td>NaN</td>\n",
       "      <td>Drogo</td>\n",
       "      <td>Khal</td>\n",
       "    </tr>\n",
       "    <tr>\n",
       "      <th>0</th>\n",
       "      <td>Robert</td>\n",
       "      <td>NaN</td>\n",
       "      <td>NaN</td>\n",
       "    </tr>\n",
       "    <tr>\n",
       "      <th>1</th>\n",
       "      <td>Baratheon</td>\n",
       "      <td>NaN</td>\n",
       "      <td>NaN</td>\n",
       "    </tr>\n",
       "  </tbody>\n",
       "</table>\n",
       "</div>"
      ],
      "text/plain": [
       "           0    familia    nombre\n",
       "0        NaN  Targaryen  Daenerys\n",
       "1        NaN       Snow       Jon\n",
       "2        NaN  Lannister    Tyrion\n",
       "3        NaN      Stark      Arya\n",
       "4        NaN      Stark    Eddard\n",
       "5        NaN      Stark     Sansa\n",
       "6        NaN  Lannister    Cersei\n",
       "7        NaN  Lannister     Jaime\n",
       "8        NaN  Lannister  Joffrrey\n",
       "9        NaN      Drogo      Khal\n",
       "0     Robert        NaN       NaN\n",
       "1  Baratheon        NaN       NaN"
      ]
     },
     "execution_count": 8,
     "metadata": {},
     "output_type": "execute_result"
    }
   ],
   "source": [
    "df.append([\"Robert\", \"Baratheon\"])"
   ]
  },
  {
   "cell_type": "markdown",
   "metadata": {},
   "source": [
    "Esto no tiene muy buena pinta, ....\n",
    "\n",
    "Si revisamos mejor la documentación vemos que el primer paràmetro puede ser un diccionario, más abajo (en la documentación) tenemos un ejemplo de su uso. Probamos:"
   ]
  },
  {
   "cell_type": "code",
   "execution_count": 9,
   "metadata": {},
   "outputs": [
    {
     "data": {
      "text/html": [
       "<div>\n",
       "<style scoped>\n",
       "    .dataframe tbody tr th:only-of-type {\n",
       "        vertical-align: middle;\n",
       "    }\n",
       "\n",
       "    .dataframe tbody tr th {\n",
       "        vertical-align: top;\n",
       "    }\n",
       "\n",
       "    .dataframe thead th {\n",
       "        text-align: right;\n",
       "    }\n",
       "</style>\n",
       "<table border=\"1\" class=\"dataframe\">\n",
       "  <thead>\n",
       "    <tr style=\"text-align: right;\">\n",
       "      <th></th>\n",
       "      <th>nombre</th>\n",
       "      <th>familia</th>\n",
       "    </tr>\n",
       "  </thead>\n",
       "  <tbody>\n",
       "    <tr>\n",
       "      <th>0</th>\n",
       "      <td>Daenerys</td>\n",
       "      <td>Targaryen</td>\n",
       "    </tr>\n",
       "    <tr>\n",
       "      <th>1</th>\n",
       "      <td>Jon</td>\n",
       "      <td>Snow</td>\n",
       "    </tr>\n",
       "    <tr>\n",
       "      <th>2</th>\n",
       "      <td>Tyrion</td>\n",
       "      <td>Lannister</td>\n",
       "    </tr>\n",
       "    <tr>\n",
       "      <th>3</th>\n",
       "      <td>Arya</td>\n",
       "      <td>Stark</td>\n",
       "    </tr>\n",
       "    <tr>\n",
       "      <th>4</th>\n",
       "      <td>Eddard</td>\n",
       "      <td>Stark</td>\n",
       "    </tr>\n",
       "    <tr>\n",
       "      <th>5</th>\n",
       "      <td>Sansa</td>\n",
       "      <td>Stark</td>\n",
       "    </tr>\n",
       "    <tr>\n",
       "      <th>6</th>\n",
       "      <td>Cersei</td>\n",
       "      <td>Lannister</td>\n",
       "    </tr>\n",
       "    <tr>\n",
       "      <th>7</th>\n",
       "      <td>Jaime</td>\n",
       "      <td>Lannister</td>\n",
       "    </tr>\n",
       "    <tr>\n",
       "      <th>8</th>\n",
       "      <td>Joffrrey</td>\n",
       "      <td>Lannister</td>\n",
       "    </tr>\n",
       "    <tr>\n",
       "      <th>9</th>\n",
       "      <td>Khal</td>\n",
       "      <td>Drogo</td>\n",
       "    </tr>\n",
       "    <tr>\n",
       "      <th>10</th>\n",
       "      <td>Robert</td>\n",
       "      <td>Baratheon</td>\n",
       "    </tr>\n",
       "  </tbody>\n",
       "</table>\n",
       "</div>"
      ],
      "text/plain": [
       "      nombre    familia\n",
       "0   Daenerys  Targaryen\n",
       "1        Jon       Snow\n",
       "2     Tyrion  Lannister\n",
       "3       Arya      Stark\n",
       "4     Eddard      Stark\n",
       "5      Sansa      Stark\n",
       "6     Cersei  Lannister\n",
       "7      Jaime  Lannister\n",
       "8   Joffrrey  Lannister\n",
       "9       Khal      Drogo\n",
       "10    Robert  Baratheon"
      ]
     },
     "execution_count": 9,
     "metadata": {},
     "output_type": "execute_result"
    }
   ],
   "source": [
    "df.append({\n",
    "    \"nombre\": \"Robert\",\n",
    "    \"familia\": \"Baratheon\"\n",
    "}, ignore_index=True)"
   ]
  },
  {
   "cell_type": "markdown",
   "metadata": {},
   "source": [
    "**El dataframe no muestra los cambios!!!** ¿Porqué?"
   ]
  },
  {
   "cell_type": "code",
   "execution_count": 11,
   "metadata": {},
   "outputs": [],
   "source": [
    "df = df.append({\n",
    "    \"nombre\": \"Robert\",\n",
    "    \"familia\": \"Baratheon\"\n",
    "}, ignore_index=True)"
   ]
  },
  {
   "cell_type": "code",
   "execution_count": 12,
   "metadata": {},
   "outputs": [
    {
     "data": {
      "text/html": [
       "<div>\n",
       "<style scoped>\n",
       "    .dataframe tbody tr th:only-of-type {\n",
       "        vertical-align: middle;\n",
       "    }\n",
       "\n",
       "    .dataframe tbody tr th {\n",
       "        vertical-align: top;\n",
       "    }\n",
       "\n",
       "    .dataframe thead th {\n",
       "        text-align: right;\n",
       "    }\n",
       "</style>\n",
       "<table border=\"1\" class=\"dataframe\">\n",
       "  <thead>\n",
       "    <tr style=\"text-align: right;\">\n",
       "      <th></th>\n",
       "      <th>nombre</th>\n",
       "      <th>familia</th>\n",
       "    </tr>\n",
       "  </thead>\n",
       "  <tbody>\n",
       "    <tr>\n",
       "      <th>0</th>\n",
       "      <td>Daenerys</td>\n",
       "      <td>Targaryen</td>\n",
       "    </tr>\n",
       "    <tr>\n",
       "      <th>1</th>\n",
       "      <td>Jon</td>\n",
       "      <td>Snow</td>\n",
       "    </tr>\n",
       "    <tr>\n",
       "      <th>2</th>\n",
       "      <td>Tyrion</td>\n",
       "      <td>Lannister</td>\n",
       "    </tr>\n",
       "    <tr>\n",
       "      <th>3</th>\n",
       "      <td>Arya</td>\n",
       "      <td>Stark</td>\n",
       "    </tr>\n",
       "    <tr>\n",
       "      <th>4</th>\n",
       "      <td>Eddard</td>\n",
       "      <td>Stark</td>\n",
       "    </tr>\n",
       "    <tr>\n",
       "      <th>5</th>\n",
       "      <td>Sansa</td>\n",
       "      <td>Stark</td>\n",
       "    </tr>\n",
       "    <tr>\n",
       "      <th>6</th>\n",
       "      <td>Cersei</td>\n",
       "      <td>Lannister</td>\n",
       "    </tr>\n",
       "    <tr>\n",
       "      <th>7</th>\n",
       "      <td>Jaime</td>\n",
       "      <td>Lannister</td>\n",
       "    </tr>\n",
       "    <tr>\n",
       "      <th>8</th>\n",
       "      <td>Joffrrey</td>\n",
       "      <td>Lannister</td>\n",
       "    </tr>\n",
       "    <tr>\n",
       "      <th>9</th>\n",
       "      <td>Khal</td>\n",
       "      <td>Drogo</td>\n",
       "    </tr>\n",
       "    <tr>\n",
       "      <th>10</th>\n",
       "      <td>Robert</td>\n",
       "      <td>Baratheon</td>\n",
       "    </tr>\n",
       "  </tbody>\n",
       "</table>\n",
       "</div>"
      ],
      "text/plain": [
       "      nombre    familia\n",
       "0   Daenerys  Targaryen\n",
       "1        Jon       Snow\n",
       "2     Tyrion  Lannister\n",
       "3       Arya      Stark\n",
       "4     Eddard      Stark\n",
       "5      Sansa      Stark\n",
       "6     Cersei  Lannister\n",
       "7      Jaime  Lannister\n",
       "8   Joffrrey  Lannister\n",
       "9       Khal      Drogo\n",
       "10    Robert  Baratheon"
      ]
     },
     "execution_count": 12,
     "metadata": {},
     "output_type": "execute_result"
    }
   ],
   "source": [
    "df"
   ]
  },
  {
   "cell_type": "markdown",
   "metadata": {
    "slideshow": {
     "slide_type": "slide"
    }
   },
   "source": [
    "Otra manera de crear dataframes, a partir de un diccionario."
   ]
  },
  {
   "cell_type": "code",
   "execution_count": 13,
   "metadata": {},
   "outputs": [
    {
     "name": "stdout",
     "output_type": "stream",
     "text": [
      "   altura  anchura  peso\n",
      "0       1        3    10\n",
      "1       2        5    20\n",
      "2       3        7    30\n"
     ]
    }
   ],
   "source": [
    "dfBasic = pd.DataFrame({\"altura\":[1,2,3],\"peso\":[10,20,30],\"anchura\":[3,5,7]})\n",
    "print(dfBasic)"
   ]
  },
  {
   "cell_type": "markdown",
   "metadata": {
    "slideshow": {
     "slide_type": "slide"
    }
   },
   "source": [
    "Para crear el DataFrame que utilizabamos en los ejemplos anteriores nos bastaria con la siguiente sentencia:"
   ]
  },
  {
   "cell_type": "code",
   "execution_count": 14,
   "metadata": {
    "slideshow": {
     "slide_type": "subslide"
    }
   },
   "outputs": [
    {
     "name": "stdout",
     "output_type": "stream",
     "text": [
      "     familia    nombre\n",
      "0  Targaryen  Daenerys\n",
      "1       Snow       Jon\n",
      "2  Lannister    Tyrion\n",
      "3      Stark      Arya\n",
      "4      Stark    Eddard\n",
      "5      Stark     Sansa\n",
      "6  Lannister    Cersei\n",
      "7  Lannister     Jaime\n",
      "8  Lannister  Joffrrey\n",
      "9      Drogo      Khal\n"
     ]
    }
   ],
   "source": [
    "# Definimos las tres listas\n",
    "nombre = [\"Daenerys\",\"Jon\",\"Tyrion\",\"Arya\",\"Eddard\",\"Sansa\",\"Cersei\",\"Jaime\",\"Joffrrey\",\"Khal\"]\n",
    "familia = [\"Targaryen\",\"Snow\",\"Lannister\",\"Stark\",\"Stark\",\"Stark\",\"Lannister\",\"Lannister\",\"Lannister\",\"Drogo\"]\n",
    "\n",
    "# Creamos el dataframe con las listas\n",
    "dfGOT = pd.DataFrame({\n",
    "    \"nombre\": nombre,\n",
    "    \"familia\": familia\n",
    "})\n",
    "print(dfGOT)"
   ]
  },
  {
   "cell_type": "markdown",
   "metadata": {},
   "source": [
    "\n",
    "Debemos tener en cuenta que la creación de un dataframe normalmente se hace en un entorno más complicado: captura de datos de la red, computación de los valores, processamiento de los datos antes de añadirlos al dataFrame, ... \n",
    "\n",
    "En este entorno, la primera manera de crear el DataFrame, más versàtil, suele ser más útil."
   ]
  },
  {
   "cell_type": "markdown",
   "metadata": {
    "slideshow": {
     "slide_type": "slide"
    }
   },
   "source": [
    "**Podemos aprovechar características de numpy para crear series y asignarlas al dataframe**\n",
    "Esto es útil para crear conjunto de datos de pruebas o bien, basados en algunas distribuciones probabilísticas.\n",
    "\n",
    "En la documentación de Numpy podemos ver las distribuciones implementadas en el [siguiente enlace](https://docs.scipy.org/doc/numpy-1.14.0/reference/routines.random.html)."
   ]
  },
  {
   "cell_type": "code",
   "execution_count": 19,
   "metadata": {},
   "outputs": [
    {
     "name": "stdout",
     "output_type": "stream",
     "text": [
      "[1.66678483 1.10230863 1.80143616 1.18658552 1.17012881 1.28077095\n",
      " 1.19566873 1.92654596 1.65446459 1.26766409 1.55804262]\n"
     ]
    }
   ],
   "source": [
    "import numpy as np\n",
    "\n",
    "altura = np.random.normal(1.6,scale=0.3,size=len(df.nombre))\n",
    "\n",
    "print(altura)"
   ]
  },
  {
   "cell_type": "code",
   "execution_count": 20,
   "metadata": {},
   "outputs": [
    {
     "name": "stdout",
     "output_type": "stream",
     "text": [
      "count    11.000000\n",
      "mean      1.437309\n",
      "std       0.290599\n",
      "min       1.102309\n",
      "25%       1.191127\n",
      "50%       1.280771\n",
      "75%       1.660625\n",
      "max       1.926546\n",
      "Name: altura, dtype: float64\n",
      "(11, 3)\n"
     ]
    }
   ],
   "source": [
    "df[\"altura\"] = altura\n",
    "print(df[\"altura\"].describe())\n",
    "print(df.shape)"
   ]
  },
  {
   "cell_type": "markdown",
   "metadata": {},
   "source": [
    "**Vamos a visualizar esta distribución**"
   ]
  },
  {
   "cell_type": "code",
   "execution_count": 21,
   "metadata": {},
   "outputs": [
    {
     "data": {
      "text/plain": [
       "(array([0.0609738 , 0.07621725, 0.0914607 , 0.0914607 , 0.0914607 ,\n",
       "        0.1524345 , 0.22865174, 0.47254694, 0.53352073, 0.88412007,\n",
       "        0.89936352, 1.00606767, 1.14325872, 1.64629255, 1.43288426,\n",
       "        1.26520631, 1.17374562, 0.89936352, 0.85363317, 0.60973798,\n",
       "        0.51827728, 0.42681659, 0.27438209, 0.21340829, 0.07621725,\n",
       "        0.0304869 , 0.0304869 , 0.04573035, 0.        , 0.01524345]),\n",
       " array([0.67360519, 0.73920714, 0.80480909, 0.87041104, 0.93601298,\n",
       "        1.00161493, 1.06721688, 1.13281883, 1.19842078, 1.26402273,\n",
       "        1.32962468, 1.39522663, 1.46082858, 1.52643053, 1.59203248,\n",
       "        1.65763442, 1.72323637, 1.78883832, 1.85444027, 1.92004222,\n",
       "        1.98564417, 2.05124612, 2.11684807, 2.18245002, 2.24805197,\n",
       "        2.31365391, 2.37925586, 2.44485781, 2.51045976, 2.57606171,\n",
       "        2.64166366]),\n",
       " <a list of 30 Patch objects>)"
      ]
     },
     "execution_count": 21,
     "metadata": {},
     "output_type": "execute_result"
    },
    {
     "data": {
      "image/png": "[encoded data removed]",
      "text/plain": [
       "<Figure size 432x288 with 1 Axes>"
      ]
     },
     "metadata": {
      "needs_background": "light"
     },
     "output_type": "display_data"
    }
   ],
   "source": [
    "%matplotlib inline\n",
    "import matplotlib.pyplot as plt\n",
    "\n",
    "random_normal = np.random.normal(1.6,scale=0.3,size=1000)\n",
    "plt.hist(random_normal, 30, density=True)\n"
   ]
  },
  {
   "cell_type": "markdown",
   "metadata": {
    "slideshow": {
     "slide_type": "slide"
    }
   },
   "source": [
    "#  2. Almacenando un DataFrame\n",
    "Hay múltiples formatos: \n",
    "- pickle: original ASCII data format\n",
    "- cPickle, a C library\n",
    "- pickle-p2: uses the newer binary format\n",
    "- json: standardlib json library\n",
    "- json-no-index: like json, but without index\n",
    "- msgpack: binary JSON alternative\n",
    "- CSV\n",
    "- hdfstore: HDF5 storage format\n",
    "\n",
    "\n",
    "\n",
    "**Atención:** Veremos tan solo: CSV, y HDF5"
   ]
  },
  {
   "cell_type": "markdown",
   "metadata": {
    "slideshow": {
     "slide_type": "slide"
    }
   },
   "source": [
    "### El tipo de formato determina el rendimiento de la aplicación\n",
    "\n",
    "\n",
    "<img src=\"files/rendimiento.png\"/>"
   ]
  },
  {
   "cell_type": "markdown",
   "metadata": {
    "slideshow": {
     "slide_type": "slide"
    }
   },
   "source": [
    "### Formato CSV \n",
    "\n",
    "Cómo almacenamos el DataFrame en este formato?\n",
    "\n",
    "\n",
    "Documentación: https://pandas.pydata.org/pandas-docs/stable/generated/pandas.DataFrame.to_csv.html\n"
   ]
  },
  {
   "cell_type": "code",
   "execution_count": 22,
   "metadata": {},
   "outputs": [],
   "source": [
    "df.to_csv(\"data/df_test.csv\") # Guardamos el dataframe con los valores por defecto"
   ]
  },
  {
   "cell_type": "markdown",
   "metadata": {
    "slideshow": {
     "slide_type": "slide"
    }
   },
   "source": [
    "**Truco**\n",
    "Si habéis usado Jupyter, se pueden invocar comandos de shell anteponiendo el simbolo !  "
   ]
  },
  {
   "cell_type": "code",
   "execution_count": 23,
   "metadata": {},
   "outputs": [
    {
     "name": "stdout",
     "output_type": "stream",
     "text": [
      ",nombre,familia,altura\n",
      "0,Daenerys,Targaryen,1.666784826074884\n",
      "1,Jon,Snow,1.1023086250403267\n",
      "2,Tyrion,Lannister,1.8014361595946087\n",
      "3,Arya,Stark,1.1865855178064322\n",
      "4,Eddard,Stark,1.170128811974173\n",
      "5,Sansa,Stark,1.2807709485628864\n",
      "6,Cersei,Lannister,1.195668733804172\n",
      "7,Jaime,Lannister,1.9265459593998486\n",
      "8,Joffrrey,Lannister,1.654464587198024\n",
      "9,Khal,Drogo,1.2676640870213522\n",
      "10,Robert,Baratheon,1.558042618414715\n"
     ]
    }
   ],
   "source": [
    "!type data\\df_test.csv "
   ]
  },
  {
   "cell_type": "markdown",
   "metadata": {
    "collapsed": true,
    "slideshow": {
     "slide_type": "slide"
    }
   },
   "source": [
    "### HDF5 almacenamiento\n",
    "Son bases de datos (al estilo clave-valor) que contienen un tipo de fichero especial para gestionar la información que se almacena.\n",
    "\n",
    "La información se guarda mediante la asociación de un nombre \"key\" y el valor que se quiera relacionar con el: una serie, un dataframe, etc.\n"
   ]
  },
  {
   "cell_type": "code",
   "execution_count": 34,
   "metadata": {},
   "outputs": [],
   "source": [
    "#Es necesario importar la librería\n",
    "from pandas import HDFStore\n",
    "\n",
    "hdf = HDFStore('data/storage.h5')\n"
   ]
  },
  {
   "cell_type": "markdown",
   "metadata": {},
   "source": [
    "Almacenamos el dataframe en la base de datos HDF5 con la función PUT.\n",
    "\n",
    "La siguiente sentencia almacena el dataframe \"df\" cómo una tabla de la base de datos llamada \"d1\":"
   ]
  },
  {
   "cell_type": "code",
   "execution_count": 27,
   "metadata": {
    "slideshow": {
     "slide_type": "slide"
    }
   },
   "outputs": [],
   "source": [
    "hdf.put('d1', df, format='table', data_columns=True)"
   ]
  },
  {
   "cell_type": "markdown",
   "metadata": {},
   "source": [
    "Para consultar la tabla que acabamos de crear, podemos acceder de la siguiente manera:"
   ]
  },
  {
   "cell_type": "code",
   "execution_count": 36,
   "metadata": {},
   "outputs": [
    {
     "data": {
      "text/html": [
       "<div>\n",
       "<style scoped>\n",
       "    .dataframe tbody tr th:only-of-type {\n",
       "        vertical-align: middle;\n",
       "    }\n",
       "\n",
       "    .dataframe tbody tr th {\n",
       "        vertical-align: top;\n",
       "    }\n",
       "\n",
       "    .dataframe thead th {\n",
       "        text-align: right;\n",
       "    }\n",
       "</style>\n",
       "<table border=\"1\" class=\"dataframe\">\n",
       "  <thead>\n",
       "    <tr style=\"text-align: right;\">\n",
       "      <th></th>\n",
       "      <th>nombre</th>\n",
       "      <th>familia</th>\n",
       "      <th>altura</th>\n",
       "    </tr>\n",
       "  </thead>\n",
       "  <tbody>\n",
       "    <tr>\n",
       "      <th>0</th>\n",
       "      <td>Daenerys</td>\n",
       "      <td>Targaryen</td>\n",
       "      <td>1.666785</td>\n",
       "    </tr>\n",
       "    <tr>\n",
       "      <th>1</th>\n",
       "      <td>Jon</td>\n",
       "      <td>Snow</td>\n",
       "      <td>1.102309</td>\n",
       "    </tr>\n",
       "    <tr>\n",
       "      <th>2</th>\n",
       "      <td>Tyrion</td>\n",
       "      <td>Lannister</td>\n",
       "      <td>1.801436</td>\n",
       "    </tr>\n",
       "    <tr>\n",
       "      <th>3</th>\n",
       "      <td>Arya</td>\n",
       "      <td>Stark</td>\n",
       "      <td>1.186586</td>\n",
       "    </tr>\n",
       "    <tr>\n",
       "      <th>4</th>\n",
       "      <td>Eddard</td>\n",
       "      <td>Stark</td>\n",
       "      <td>1.170129</td>\n",
       "    </tr>\n",
       "    <tr>\n",
       "      <th>5</th>\n",
       "      <td>Sansa</td>\n",
       "      <td>Stark</td>\n",
       "      <td>1.280771</td>\n",
       "    </tr>\n",
       "    <tr>\n",
       "      <th>6</th>\n",
       "      <td>Cersei</td>\n",
       "      <td>Lannister</td>\n",
       "      <td>1.195669</td>\n",
       "    </tr>\n",
       "    <tr>\n",
       "      <th>7</th>\n",
       "      <td>Jaime</td>\n",
       "      <td>Lannister</td>\n",
       "      <td>1.926546</td>\n",
       "    </tr>\n",
       "    <tr>\n",
       "      <th>8</th>\n",
       "      <td>Joffrrey</td>\n",
       "      <td>Lannister</td>\n",
       "      <td>1.654465</td>\n",
       "    </tr>\n",
       "    <tr>\n",
       "      <th>9</th>\n",
       "      <td>Khal</td>\n",
       "      <td>Drogo</td>\n",
       "      <td>1.267664</td>\n",
       "    </tr>\n",
       "    <tr>\n",
       "      <th>10</th>\n",
       "      <td>Robert</td>\n",
       "      <td>Baratheon</td>\n",
       "      <td>1.558043</td>\n",
       "    </tr>\n",
       "  </tbody>\n",
       "</table>\n",
       "</div>"
      ],
      "text/plain": [
       "      nombre    familia    altura\n",
       "0   Daenerys  Targaryen  1.666785\n",
       "1        Jon       Snow  1.102309\n",
       "2     Tyrion  Lannister  1.801436\n",
       "3       Arya      Stark  1.186586\n",
       "4     Eddard      Stark  1.170129\n",
       "5      Sansa      Stark  1.280771\n",
       "6     Cersei  Lannister  1.195669\n",
       "7      Jaime  Lannister  1.926546\n",
       "8   Joffrrey  Lannister  1.654465\n",
       "9       Khal      Drogo  1.267664\n",
       "10    Robert  Baratheon  1.558043"
      ]
     },
     "execution_count": 36,
     "metadata": {},
     "output_type": "execute_result"
    }
   ],
   "source": [
    "hdf.d1"
   ]
  },
  {
   "cell_type": "code",
   "execution_count": 37,
   "metadata": {
    "scrolled": true
   },
   "outputs": [
    {
     "data": {
      "text/html": [
       "<div>\n",
       "<style scoped>\n",
       "    .dataframe tbody tr th:only-of-type {\n",
       "        vertical-align: middle;\n",
       "    }\n",
       "\n",
       "    .dataframe tbody tr th {\n",
       "        vertical-align: top;\n",
       "    }\n",
       "\n",
       "    .dataframe thead th {\n",
       "        text-align: right;\n",
       "    }\n",
       "</style>\n",
       "<table border=\"1\" class=\"dataframe\">\n",
       "  <thead>\n",
       "    <tr style=\"text-align: right;\">\n",
       "      <th></th>\n",
       "      <th>nombre</th>\n",
       "      <th>familia</th>\n",
       "      <th>altura</th>\n",
       "    </tr>\n",
       "  </thead>\n",
       "  <tbody>\n",
       "    <tr>\n",
       "      <th>0</th>\n",
       "      <td>Daenerys</td>\n",
       "      <td>Targaryen</td>\n",
       "      <td>1.666785</td>\n",
       "    </tr>\n",
       "    <tr>\n",
       "      <th>1</th>\n",
       "      <td>Jon</td>\n",
       "      <td>Snow</td>\n",
       "      <td>1.102309</td>\n",
       "    </tr>\n",
       "    <tr>\n",
       "      <th>2</th>\n",
       "      <td>Tyrion</td>\n",
       "      <td>Lannister</td>\n",
       "      <td>1.801436</td>\n",
       "    </tr>\n",
       "    <tr>\n",
       "      <th>3</th>\n",
       "      <td>Arya</td>\n",
       "      <td>Stark</td>\n",
       "      <td>1.186586</td>\n",
       "    </tr>\n",
       "    <tr>\n",
       "      <th>4</th>\n",
       "      <td>Eddard</td>\n",
       "      <td>Stark</td>\n",
       "      <td>1.170129</td>\n",
       "    </tr>\n",
       "    <tr>\n",
       "      <th>5</th>\n",
       "      <td>Sansa</td>\n",
       "      <td>Stark</td>\n",
       "      <td>1.280771</td>\n",
       "    </tr>\n",
       "    <tr>\n",
       "      <th>6</th>\n",
       "      <td>Cersei</td>\n",
       "      <td>Lannister</td>\n",
       "      <td>1.195669</td>\n",
       "    </tr>\n",
       "    <tr>\n",
       "      <th>7</th>\n",
       "      <td>Jaime</td>\n",
       "      <td>Lannister</td>\n",
       "      <td>1.926546</td>\n",
       "    </tr>\n",
       "    <tr>\n",
       "      <th>8</th>\n",
       "      <td>Joffrrey</td>\n",
       "      <td>Lannister</td>\n",
       "      <td>1.654465</td>\n",
       "    </tr>\n",
       "    <tr>\n",
       "      <th>9</th>\n",
       "      <td>Khal</td>\n",
       "      <td>Drogo</td>\n",
       "      <td>1.267664</td>\n",
       "    </tr>\n",
       "    <tr>\n",
       "      <th>10</th>\n",
       "      <td>Robert</td>\n",
       "      <td>Baratheon</td>\n",
       "      <td>1.558043</td>\n",
       "    </tr>\n",
       "  </tbody>\n",
       "</table>\n",
       "</div>"
      ],
      "text/plain": [
       "      nombre    familia    altura\n",
       "0   Daenerys  Targaryen  1.666785\n",
       "1        Jon       Snow  1.102309\n",
       "2     Tyrion  Lannister  1.801436\n",
       "3       Arya      Stark  1.186586\n",
       "4     Eddard      Stark  1.170129\n",
       "5      Sansa      Stark  1.280771\n",
       "6     Cersei  Lannister  1.195669\n",
       "7      Jaime  Lannister  1.926546\n",
       "8   Joffrrey  Lannister  1.654465\n",
       "9       Khal      Drogo  1.267664\n",
       "10    Robert  Baratheon  1.558043"
      ]
     },
     "execution_count": 37,
     "metadata": {},
     "output_type": "execute_result"
    }
   ],
   "source": [
    "hdf[\"d1\"]"
   ]
  },
  {
   "cell_type": "markdown",
   "metadata": {},
   "source": [
    "Cerramos el fichero para liberar recursos i poder realizar operaciones con otros recursos HDF5."
   ]
  },
  {
   "cell_type": "code",
   "execution_count": 38,
   "metadata": {},
   "outputs": [
    {
     "data": {
      "text/plain": [
       "False"
      ]
     },
     "execution_count": 38,
     "metadata": {},
     "output_type": "execute_result"
    }
   ],
   "source": [
    "hdf.close()\n",
    "hdf.is_open"
   ]
  },
  {
   "cell_type": "markdown",
   "metadata": {},
   "source": [
    "Para leer la tabla directamente del fichero podemos utilizar la función \"read_hdf\". Así nos evitamos cargar toda la base de datos en la memoria."
   ]
  },
  {
   "cell_type": "code",
   "execution_count": 40,
   "metadata": {
    "slideshow": {
     "slide_type": "slide"
    }
   },
   "outputs": [
    {
     "name": "stdout",
     "output_type": "stream",
     "text": [
      "      nombre    familia    altura\n",
      "0   Daenerys  Targaryen  1.666785\n",
      "1        Jon       Snow  1.102309\n",
      "2     Tyrion  Lannister  1.801436\n",
      "3       Arya      Stark  1.186586\n",
      "4     Eddard      Stark  1.170129\n",
      "5      Sansa      Stark  1.280771\n",
      "6     Cersei  Lannister  1.195669\n",
      "7      Jaime  Lannister  1.926546\n",
      "8   Joffrrey  Lannister  1.654465\n",
      "9       Khal      Drogo  1.267664\n",
      "10    Robert  Baratheon  1.558043\n"
     ]
    }
   ],
   "source": [
    "from pandas import read_hdf\n",
    "df2 = read_hdf('data/storage.h5', 'd1')\n",
    "print(df2)"
   ]
  },
  {
   "cell_type": "markdown",
   "metadata": {
    "slideshow": {
     "slide_type": "slide"
    }
   },
   "source": [
    "Una de las funcionalidades más potentes de HDF5 és que se pueden realizar \"queries\"  directamente al fichero, de una forma muy sencilla.\n",
    "\n",
    "Esta operación és mucho más eficiente que cargar el dataframe entero i luego filtrar a sobre."
   ]
  },
  {
   "cell_type": "code",
   "execution_count": 41,
   "metadata": {
    "slideshow": {
     "slide_type": "fragment"
    }
   },
   "outputs": [
    {
     "name": "stdout",
     "output_type": "stream",
     "text": [
      "   nombre familia    altura\n",
      "3    Arya   Stark  1.186586\n",
      "4  Eddard   Stark  1.170129\n",
      "5   Sansa   Stark  1.280771\n"
     ]
    }
   ],
   "source": [
    "# Consultamos todos los registros de miembros de la familia Stark\n",
    "df3 = read_hdf('data/storage.h5', 'd1', where=['familia==Stark'])\n",
    "print(df3)"
   ]
  },
  {
   "cell_type": "code",
   "execution_count": 42,
   "metadata": {},
   "outputs": [
    {
     "name": "stdout",
     "output_type": "stream",
     "text": [
      "      nombre\n",
      "0   Daenerys\n",
      "1        Jon\n",
      "2     Tyrion\n",
      "3       Arya\n",
      "4     Eddard\n",
      "5      Sansa\n",
      "6     Cersei\n",
      "7      Jaime\n",
      "8   Joffrrey\n",
      "9       Khal\n",
      "10    Robert\n"
     ]
    }
   ],
   "source": [
    "# Consultamos una única columna\n",
    "df4 = read_hdf('data/storage.h5', 'd1', columns=[\"nombre\"])\n",
    "print(df4)"
   ]
  },
  {
   "cell_type": "markdown",
   "metadata": {
    "slideshow": {
     "slide_type": "slide"
    }
   },
   "source": [
    "## EJERCICIOS"
   ]
  },
  {
   "cell_type": "markdown",
   "metadata": {},
   "source": [
    "**1) Crea un dataframe con al menos 4 series de 100 elementos:**\n",
    "\n",
    "Las series son las siguientes:\n",
    "- name : Distribución aleatoria de 8 characteres \n",
    "- km2  : Distribución aleatoria uniforme entre 10-100\n",
    "- age  : Distribución normal entre 1-90 (más o menos), media y desviación típica a vuestro gusto.\n",
    "- level: Distribución aleatoria de cuatro grados: none, school, high, university\n",
    "\n",
    "docs: https://docs.scipy.org/doc/numpy/reference/routines.random.html"
   ]
  },
  {
   "cell_type": "code",
   "execution_count": 73,
   "metadata": {},
   "outputs": [
    {
     "name": "stdout",
     "output_type": "stream",
     "text": [
      "ABCDEFGHIJKLMNOPQRSTUVWXYZ\n",
      "0123456789\n",
      "0123456789ABCDEFGHIJKLMNOPQRSTUVWXYZ\n",
      "A\n",
      "UNLNQJNF\n"
     ]
    }
   ],
   "source": [
    "# Pista para la creación de nombres y niveles\n",
    "import string\n",
    "import numpy as np\n",
    "print(string.ascii_uppercase)\n",
    "print(string.digits)\n",
    "print(string.digits+string.ascii_uppercase)\n",
    "print(np.random.choice(list(string.ascii_uppercase)))\n",
    "print(''.join(np.random.choice(list(string.ascii_uppercase)) for i in range(8)))"
   ]
  },
  {
   "cell_type": "code",
   "execution_count": null,
   "metadata": {},
   "outputs": [],
   "source": []
  },
  {
   "cell_type": "markdown",
   "metadata": {},
   "source": [
    "**2) Guarda el dataframe en un fichero CSV. ¿Cuánto espacio ocupa?. ¿Puedes abrirlo en excel?**"
   ]
  },
  {
   "cell_type": "code",
   "execution_count": null,
   "metadata": {},
   "outputs": [],
   "source": []
  },
  {
   "cell_type": "markdown",
   "metadata": {},
   "source": [
    "**3) Guarda el dataframe anterior en una fichero HDF5. ¿Cuánto espacio ocupa? ¿Puedes abrirlo en un excel?**"
   ]
  },
  {
   "cell_type": "code",
   "execution_count": 77,
   "metadata": {},
   "outputs": [],
   "source": []
  },
  {
   "cell_type": "markdown",
   "metadata": {},
   "source": [
    "**4) Crea un nuevo dataframe con las columnas: age y level, donde *level == none*. ¿Cuántas filas hay?**"
   ]
  },
  {
   "cell_type": "code",
   "execution_count": null,
   "metadata": {},
   "outputs": [],
   "source": []
  },
  {
   "cell_type": "markdown",
   "metadata": {},
   "source": [
    "**5) Guarda del ejercicio 4, en el mismo HDF5, con una *key* diferente.** "
   ]
  },
  {
   "cell_type": "code",
   "execution_count": 83,
   "metadata": {},
   "outputs": [],
   "source": []
  },
  {
   "cell_type": "markdown",
   "metadata": {},
   "source": [
    "**6) En un nuevo dataframe, carga del fichero HDF5 -el df del ejercicio 4- aquellas observaciones con el atributo *age* por encima de los 40 años.**"
   ]
  },
  {
   "cell_type": "code",
   "execution_count": null,
   "metadata": {},
   "outputs": [],
   "source": []
  },
  {
   "cell_type": "markdown",
   "metadata": {},
   "source": [
    "**7) Repite el paso 2 y 3 pero está vez mirando cuanto tiempo tardas en hacer una operación de escritura (CSV,HDF5) y de carga de ambos dataframes.**\n"
   ]
  },
  {
   "cell_type": "code",
   "execution_count": null,
   "metadata": {},
   "outputs": [],
   "source": [
    "#PISTA: Como capturar la hora del sistema \n",
    "import time\n",
    "start = time.clock()\n",
    "## Guarda CSV\n",
    "time.sleep(2) #para la ejecución 2ms\n",
    "###\n",
    "end = time.clock()\n",
    "print(\"Tiempo necesitado: %fs\" %(end-start))"
   ]
  },
  {
   "cell_type": "code",
   "execution_count": null,
   "metadata": {},
   "outputs": [],
   "source": []
  }
 ],
 "metadata": {
  "celltoolbar": "Slideshow",
  "kernelspec": {
   "display_name": "Python 3",
   "language": "python",
   "name": "python3"
  },
  "language_info": {
   "codemirror_mode": {
    "name": "ipython",
    "version": 3
   },
   "file_extension": ".py",
   "mimetype": "text/x-python",
   "name": "python",
   "nbconvert_exporter": "python",
   "pygments_lexer": "ipython3",
   "version": "3.7.4"
  }
 },
 "nbformat": 4,
 "nbformat_minor": 1
}
