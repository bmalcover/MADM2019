{
 "cells": [
  {
   "cell_type": "code",
   "execution_count": 6,
   "metadata": {},
   "outputs": [],
   "source": [
    "%matplotlib inline\n",
    "import pandas as pd\n",
    "import numpy as np\n",
    "import matplotlib.pyplot as plt"
   ]
  },
  {
   "cell_type": "markdown",
   "metadata": {
    "slideshow": {
     "slide_type": "slide"
    }
   },
   "source": [
    "# Agrupaciones de datos\n",
    "\n",
    "Las agrupaciones son operaciones necesarias para analizar datos, ya que permiten extraer información en función de datos categoricos de nuestro dataframe."
   ]
  },
  {
   "cell_type": "markdown",
   "metadata": {
    "slideshow": {
     "slide_type": "slide"
    }
   },
   "source": [
    "## Contenido\n",
    "\n",
    "- M2_0 Introducción a la estructura DataFrame: características, carga y acceso.**\n",
    "- M2_1 Creación y Almacenamiento.\n",
    "- M2_2 Visualización con pandas.\n",
    "- **M2_3 Otras operaciones con DataFrames: agrupaciones de datos.**\n",
    "- M2_4 Gestionando datos perdidos.\n",
    "- M2_5 Series temporales."
   ]
  },
  {
   "cell_type": "code",
   "execution_count": 2,
   "metadata": {
    "slideshow": {
     "slide_type": "slide"
    }
   },
   "outputs": [
    {
     "data": {
      "text/html": [
       "<div>\n",
       "<style scoped>\n",
       "    .dataframe tbody tr th:only-of-type {\n",
       "        vertical-align: middle;\n",
       "    }\n",
       "\n",
       "    .dataframe tbody tr th {\n",
       "        vertical-align: top;\n",
       "    }\n",
       "\n",
       "    .dataframe thead th {\n",
       "        text-align: right;\n",
       "    }\n",
       "</style>\n",
       "<table border=\"1\" class=\"dataframe\">\n",
       "  <thead>\n",
       "    <tr style=\"text-align: right;\">\n",
       "      <th></th>\n",
       "      <th>Nombre</th>\n",
       "      <th>Apellidos</th>\n",
       "      <th>Altura</th>\n",
       "      <th>Sexo</th>\n",
       "      <th>Nacimiento</th>\n",
       "      <th>Cof</th>\n",
       "      <th>Categoria</th>\n",
       "    </tr>\n",
       "  </thead>\n",
       "  <tbody>\n",
       "    <tr>\n",
       "      <td>0</td>\n",
       "      <td>Will</td>\n",
       "      <td>Smith</td>\n",
       "      <td>1.43</td>\n",
       "      <td>M</td>\n",
       "      <td>10/10/1920</td>\n",
       "      <td>0.19</td>\n",
       "      <td>laboral</td>\n",
       "    </tr>\n",
       "    <tr>\n",
       "      <td>1</td>\n",
       "      <td>Jon</td>\n",
       "      <td>Snow</td>\n",
       "      <td>1.98</td>\n",
       "      <td>M</td>\n",
       "      <td>10/1/1970</td>\n",
       "      <td>0.98</td>\n",
       "      <td>laboral</td>\n",
       "    </tr>\n",
       "    <tr>\n",
       "      <td>2</td>\n",
       "      <td>Laia</td>\n",
       "      <td>Ramirez</td>\n",
       "      <td>1.87</td>\n",
       "      <td>F</td>\n",
       "      <td>09/10/1987</td>\n",
       "      <td>0.76</td>\n",
       "      <td>cap6</td>\n",
       "    </tr>\n",
       "    <tr>\n",
       "      <td>3</td>\n",
       "      <td>Luzy</td>\n",
       "      <td>Raim</td>\n",
       "      <td>1.67</td>\n",
       "      <td>F</td>\n",
       "      <td>23/07/1979</td>\n",
       "      <td>0.56</td>\n",
       "      <td>cap6</td>\n",
       "    </tr>\n",
       "    <tr>\n",
       "      <td>4</td>\n",
       "      <td>Fein</td>\n",
       "      <td>Mang</td>\n",
       "      <td>1.78</td>\n",
       "      <td>M</td>\n",
       "      <td>12/03/1937</td>\n",
       "      <td>0.27</td>\n",
       "      <td>cap6</td>\n",
       "    </tr>\n",
       "    <tr>\n",
       "      <td>5</td>\n",
       "      <td>Victor</td>\n",
       "      <td>Colom</td>\n",
       "      <td>1.78</td>\n",
       "      <td>M</td>\n",
       "      <td>22/09/1957</td>\n",
       "      <td>0.97</td>\n",
       "      <td>cap8</td>\n",
       "    </tr>\n",
       "  </tbody>\n",
       "</table>\n",
       "</div>"
      ],
      "text/plain": [
       "   Nombre Apellidos  Altura Sexo  Nacimiento   Cof Categoria\n",
       "0    Will     Smith    1.43    M  10/10/1920  0.19   laboral\n",
       "1     Jon      Snow    1.98    M   10/1/1970  0.98   laboral\n",
       "2    Laia   Ramirez    1.87    F  09/10/1987  0.76      cap6\n",
       "3    Luzy      Raim    1.67    F  23/07/1979  0.56      cap6\n",
       "4    Fein      Mang    1.78    M  12/03/1937  0.27      cap6\n",
       "5  Victor     Colom    1.78    M  22/09/1957  0.97      cap8"
      ]
     },
     "execution_count": 2,
     "metadata": {},
     "output_type": "execute_result"
    }
   ],
   "source": [
    "df= pd.read_csv(\"data/experiment.csv\")\n",
    "df"
   ]
  },
  {
   "cell_type": "markdown",
   "metadata": {
    "slideshow": {
     "slide_type": "slide"
    }
   },
   "source": [
    "En el siguiente ejemplo agrupamos los datos según el sexo de la persona"
   ]
  },
  {
   "cell_type": "code",
   "execution_count": 41,
   "metadata": {
    "slideshow": {
     "slide_type": "-"
    }
   },
   "outputs": [
    {
     "data": {
      "text/plain": [
       "pandas.core.groupby.generic.DataFrameGroupBy"
      ]
     },
     "execution_count": 41,
     "metadata": {},
     "output_type": "execute_result"
    }
   ],
   "source": [
    "bySex = df.groupby('Sexo')\n",
    "type(bySex)"
   ]
  },
  {
   "cell_type": "code",
   "execution_count": 43,
   "metadata": {},
   "outputs": [
    {
     "data": {
      "text/plain": [
       "{'F': Int64Index([2, 3], dtype='int64'),\n",
       " 'M': Int64Index([0, 1, 4, 5], dtype='int64')}"
      ]
     },
     "execution_count": 43,
     "metadata": {},
     "output_type": "execute_result"
    }
   ],
   "source": [
    "# Podemos saber los grupos realizados y que índices del dataframe tienen.\n",
    "bySex.groups # nos proporciona un diccionario\n"
   ]
  },
  {
   "cell_type": "code",
   "execution_count": 45,
   "metadata": {},
   "outputs": [
    {
     "data": {
      "text/html": [
       "<div>\n",
       "<style scoped>\n",
       "    .dataframe tbody tr th:only-of-type {\n",
       "        vertical-align: middle;\n",
       "    }\n",
       "\n",
       "    .dataframe tbody tr th {\n",
       "        vertical-align: top;\n",
       "    }\n",
       "\n",
       "    .dataframe thead th {\n",
       "        text-align: right;\n",
       "    }\n",
       "</style>\n",
       "<table border=\"1\" class=\"dataframe\">\n",
       "  <thead>\n",
       "    <tr style=\"text-align: right;\">\n",
       "      <th></th>\n",
       "      <th>Nombre</th>\n",
       "      <th>Apellidos</th>\n",
       "      <th>Altura</th>\n",
       "      <th>Sexo</th>\n",
       "      <th>Nacimiento</th>\n",
       "      <th>Cof</th>\n",
       "      <th>Categoria</th>\n",
       "    </tr>\n",
       "  </thead>\n",
       "  <tbody>\n",
       "    <tr>\n",
       "      <td>0</td>\n",
       "      <td>Will</td>\n",
       "      <td>Smith</td>\n",
       "      <td>1.43</td>\n",
       "      <td>M</td>\n",
       "      <td>10/10/1920</td>\n",
       "      <td>0.19</td>\n",
       "      <td>laboral</td>\n",
       "    </tr>\n",
       "    <tr>\n",
       "      <td>1</td>\n",
       "      <td>Jon</td>\n",
       "      <td>Snow</td>\n",
       "      <td>1.98</td>\n",
       "      <td>M</td>\n",
       "      <td>10/1/1970</td>\n",
       "      <td>0.98</td>\n",
       "      <td>laboral</td>\n",
       "    </tr>\n",
       "    <tr>\n",
       "      <td>4</td>\n",
       "      <td>Fein</td>\n",
       "      <td>Mang</td>\n",
       "      <td>1.78</td>\n",
       "      <td>M</td>\n",
       "      <td>12/03/1937</td>\n",
       "      <td>0.27</td>\n",
       "      <td>cap6</td>\n",
       "    </tr>\n",
       "    <tr>\n",
       "      <td>5</td>\n",
       "      <td>Victor</td>\n",
       "      <td>Colom</td>\n",
       "      <td>1.78</td>\n",
       "      <td>M</td>\n",
       "      <td>22/09/1957</td>\n",
       "      <td>0.97</td>\n",
       "      <td>cap8</td>\n",
       "    </tr>\n",
       "  </tbody>\n",
       "</table>\n",
       "</div>"
      ],
      "text/plain": [
       "   Nombre Apellidos  Altura Sexo  Nacimiento   Cof Categoria\n",
       "0    Will     Smith    1.43    M  10/10/1920  0.19   laboral\n",
       "1     Jon      Snow    1.98    M   10/1/1970  0.98   laboral\n",
       "4    Fein      Mang    1.78    M  12/03/1937  0.27      cap6\n",
       "5  Victor     Colom    1.78    M  22/09/1957  0.97      cap8"
      ]
     },
     "execution_count": 45,
     "metadata": {},
     "output_type": "execute_result"
    }
   ],
   "source": [
    "df.loc[bySex.groups['M'].values]"
   ]
  },
  {
   "cell_type": "markdown",
   "metadata": {
    "slideshow": {
     "slide_type": "slide"
    }
   },
   "source": [
    "Con los datos agrupados podemos realizar operaciones para obtener información de cada categoria."
   ]
  },
  {
   "cell_type": "code",
   "execution_count": 9,
   "metadata": {
    "slideshow": {
     "slide_type": "fragment"
    }
   },
   "outputs": [
    {
     "data": {
      "text/html": [
       "<div>\n",
       "<style scoped>\n",
       "    .dataframe tbody tr th:only-of-type {\n",
       "        vertical-align: middle;\n",
       "    }\n",
       "\n",
       "    .dataframe tbody tr th {\n",
       "        vertical-align: top;\n",
       "    }\n",
       "\n",
       "    .dataframe thead tr th {\n",
       "        text-align: left;\n",
       "    }\n",
       "\n",
       "    .dataframe thead tr:last-of-type th {\n",
       "        text-align: right;\n",
       "    }\n",
       "</style>\n",
       "<table border=\"1\" class=\"dataframe\">\n",
       "  <thead>\n",
       "    <tr>\n",
       "      <th></th>\n",
       "      <th colspan=\"8\" halign=\"left\">Altura</th>\n",
       "      <th colspan=\"8\" halign=\"left\">Cof</th>\n",
       "    </tr>\n",
       "    <tr>\n",
       "      <th></th>\n",
       "      <th>count</th>\n",
       "      <th>mean</th>\n",
       "      <th>std</th>\n",
       "      <th>min</th>\n",
       "      <th>25%</th>\n",
       "      <th>50%</th>\n",
       "      <th>75%</th>\n",
       "      <th>max</th>\n",
       "      <th>count</th>\n",
       "      <th>mean</th>\n",
       "      <th>std</th>\n",
       "      <th>min</th>\n",
       "      <th>25%</th>\n",
       "      <th>50%</th>\n",
       "      <th>75%</th>\n",
       "      <th>max</th>\n",
       "    </tr>\n",
       "    <tr>\n",
       "      <th>Sexo</th>\n",
       "      <th></th>\n",
       "      <th></th>\n",
       "      <th></th>\n",
       "      <th></th>\n",
       "      <th></th>\n",
       "      <th></th>\n",
       "      <th></th>\n",
       "      <th></th>\n",
       "      <th></th>\n",
       "      <th></th>\n",
       "      <th></th>\n",
       "      <th></th>\n",
       "      <th></th>\n",
       "      <th></th>\n",
       "      <th></th>\n",
       "      <th></th>\n",
       "    </tr>\n",
       "  </thead>\n",
       "  <tbody>\n",
       "    <tr>\n",
       "      <td>F</td>\n",
       "      <td>2.0</td>\n",
       "      <td>1.7700</td>\n",
       "      <td>0.141421</td>\n",
       "      <td>1.67</td>\n",
       "      <td>1.7200</td>\n",
       "      <td>1.77</td>\n",
       "      <td>1.82</td>\n",
       "      <td>1.87</td>\n",
       "      <td>2.0</td>\n",
       "      <td>0.6600</td>\n",
       "      <td>0.141421</td>\n",
       "      <td>0.56</td>\n",
       "      <td>0.61</td>\n",
       "      <td>0.66</td>\n",
       "      <td>0.7100</td>\n",
       "      <td>0.76</td>\n",
       "    </tr>\n",
       "    <tr>\n",
       "      <td>M</td>\n",
       "      <td>4.0</td>\n",
       "      <td>1.7425</td>\n",
       "      <td>0.228674</td>\n",
       "      <td>1.43</td>\n",
       "      <td>1.6925</td>\n",
       "      <td>1.78</td>\n",
       "      <td>1.83</td>\n",
       "      <td>1.98</td>\n",
       "      <td>4.0</td>\n",
       "      <td>0.6025</td>\n",
       "      <td>0.431383</td>\n",
       "      <td>0.19</td>\n",
       "      <td>0.25</td>\n",
       "      <td>0.62</td>\n",
       "      <td>0.9725</td>\n",
       "      <td>0.98</td>\n",
       "    </tr>\n",
       "  </tbody>\n",
       "</table>\n",
       "</div>"
      ],
      "text/plain": [
       "     Altura                                                     Cof          \\\n",
       "      count    mean       std   min     25%   50%   75%   max count    mean   \n",
       "Sexo                                                                          \n",
       "F       2.0  1.7700  0.141421  1.67  1.7200  1.77  1.82  1.87   2.0  0.6600   \n",
       "M       4.0  1.7425  0.228674  1.43  1.6925  1.78  1.83  1.98   4.0  0.6025   \n",
       "\n",
       "                                                \n",
       "           std   min   25%   50%     75%   max  \n",
       "Sexo                                            \n",
       "F     0.141421  0.56  0.61  0.66  0.7100  0.76  \n",
       "M     0.431383  0.19  0.25  0.62  0.9725  0.98  "
      ]
     },
     "execution_count": 9,
     "metadata": {},
     "output_type": "execute_result"
    }
   ],
   "source": [
    "bySex.describe()"
   ]
  },
  {
   "cell_type": "markdown",
   "metadata": {
    "slideshow": {
     "slide_type": "slide"
    }
   },
   "source": [
    "### Podemos obtener información concreta de cada categoria aplicando funciones agregadas a cada classe.\n",
    "Agrupamos el dataframe por Categoria laboral.\n",
    "\n",
    "Indicamos la información que queremos obtener de cada columna con un diccionario python. Especificamos la función que vamos a aplicar a los datos de cada grupo en cada columna para obtener un único valor. \n",
    "\n",
    "En este caso para la columna \"Altura\" consultamos la suma de las alturas del grupo i para \"Cof\" la media.\n"
   ]
  },
  {
   "cell_type": "code",
   "execution_count": 6,
   "metadata": {
    "slideshow": {
     "slide_type": "fragment"
    }
   },
   "outputs": [
    {
     "data": {
      "text/html": [
       "<div>\n",
       "<style scoped>\n",
       "    .dataframe tbody tr th:only-of-type {\n",
       "        vertical-align: middle;\n",
       "    }\n",
       "\n",
       "    .dataframe tbody tr th {\n",
       "        vertical-align: top;\n",
       "    }\n",
       "\n",
       "    .dataframe thead th {\n",
       "        text-align: right;\n",
       "    }\n",
       "</style>\n",
       "<table border=\"1\" class=\"dataframe\">\n",
       "  <thead>\n",
       "    <tr style=\"text-align: right;\">\n",
       "      <th></th>\n",
       "      <th>Cof</th>\n",
       "      <th>Altura</th>\n",
       "    </tr>\n",
       "    <tr>\n",
       "      <th>Categoria</th>\n",
       "      <th></th>\n",
       "      <th></th>\n",
       "    </tr>\n",
       "  </thead>\n",
       "  <tbody>\n",
       "    <tr>\n",
       "      <th>cap6</th>\n",
       "      <td>0.530</td>\n",
       "      <td>5.32</td>\n",
       "    </tr>\n",
       "    <tr>\n",
       "      <th>cap8</th>\n",
       "      <td>0.970</td>\n",
       "      <td>1.78</td>\n",
       "    </tr>\n",
       "    <tr>\n",
       "      <th>laboral</th>\n",
       "      <td>0.585</td>\n",
       "      <td>3.41</td>\n",
       "    </tr>\n",
       "  </tbody>\n",
       "</table>\n",
       "</div>"
      ],
      "text/plain": [
       "             Cof  Altura\n",
       "Categoria               \n",
       "cap6       0.530    5.32\n",
       "cap8       0.970    1.78\n",
       "laboral    0.585    3.41"
      ]
     },
     "execution_count": 6,
     "metadata": {},
     "output_type": "execute_result"
    }
   ],
   "source": [
    "df.groupby([\"Categoria\"]).aggregate({\n",
    "    \"Altura\":np.sum,\n",
    "    \"Cof\":np.mean})"
   ]
  },
  {
   "cell_type": "markdown",
   "metadata": {
    "slideshow": {
     "slide_type": "slide"
    }
   },
   "source": [
    "**Podemos aplicar un gran número de funciones de agregación:**\n",
    "\n",
    "[Funciones estadísticas](https://docs.scipy.org/doc/numpy/reference/routines.statistics.html): mean, std, ...\n",
    "\n",
    "[Funciones matemáticas](https://docs.scipy.org/doc/numpy/reference/routines.math.html): sum, prod, ...\n",
    "\n",
    "Otras funciones: max, min, ...\n",
    "\n",
    "[Documentación](https://pandas.pydata.org/pandas-docs/stable/reference/api/pandas.DataFrame.aggregate.html)\n"
   ]
  },
  {
   "cell_type": "code",
   "execution_count": 58,
   "metadata": {},
   "outputs": [],
   "source": [
    "#Ejercicio: Dibuja un diagrama de barras que muestre la altura media por sexos. Ponle título"
   ]
  },
  {
   "cell_type": "code",
   "execution_count": 9,
   "metadata": {},
   "outputs": [
    {
     "data": {
      "image/png": "[encoded data removed]",
      "text/plain": [
       "<Figure size 432x288 with 1 Axes>"
      ]
     },
     "metadata": {
      "needs_background": "light"
     },
     "output_type": "display_data"
    }
   ],
   "source": []
  },
  {
   "cell_type": "code",
   "execution_count": 57,
   "metadata": {},
   "outputs": [
    {
     "data": {
      "image/png": "[encoded data removed]",
      "text/plain": [
       "<Figure size 432x288 with 1 Axes>"
      ]
     },
     "metadata": {
      "needs_background": "light"
     },
     "output_type": "display_data"
    }
   ],
   "source": [
    "# Ejercicio: Dibuja un diagrama de cajas con la agrupación por sexo y que muestre la altura.\n"
   ]
  },
  {
   "cell_type": "markdown",
   "metadata": {
    "slideshow": {
     "slide_type": "slide"
    }
   },
   "source": [
    "### Agrupaciones de múltiples columnas\n",
    "\n",
    "También se pueden haccer agrupaciones de múltiples columnas.\n",
    "\n",
    "Se crean todas las combinaciones de las dos columnas que existen en el DataFrame."
   ]
  },
  {
   "cell_type": "code",
   "execution_count": 61,
   "metadata": {
    "slideshow": {
     "slide_type": "-"
    }
   },
   "outputs": [
    {
     "name": "stdout",
     "output_type": "stream",
     "text": [
      "                Altura    Cof\n",
      "Sexo Categoria               \n",
      "F    cap6        1.770  0.660\n",
      "M    cap6        1.780  0.270\n",
      "     cap8        1.780  0.970\n",
      "     laboral     1.705  0.585\n"
     ]
    },
    {
     "data": {
      "text/plain": [
       "MultiIndex([('F',    'cap6'),\n",
       "            ('M',    'cap6'),\n",
       "            ('M',    'cap8'),\n",
       "            ('M', 'laboral')],\n",
       "           names=['Sexo', 'Categoria'])"
      ]
     },
     "execution_count": 61,
     "metadata": {},
     "output_type": "execute_result"
    }
   ],
   "source": [
    "gr = df.groupby(['Sexo',\"Categoria\"]).mean() #Otra manera de hacer agrupaciones, \n",
    "print(gr)\n",
    "gr.index"
   ]
  },
  {
   "cell_type": "code",
   "execution_count": 8,
   "metadata": {
    "scrolled": true
   },
   "outputs": [
    {
     "name": "stdout",
     "output_type": "stream",
     "text": [
      "Sexo  Categoria\n",
      "F     cap6         2\n",
      "M     cap6         1\n",
      "      cap8         1\n",
      "      laboral      2\n",
      "dtype: int64\n"
     ]
    }
   ],
   "source": [
    "gr = df.groupby(['Sexo',\"Categoria\"]).size() #Otra manera de hacer agrupaciones, "
   ]
  },
  {
   "cell_type": "markdown",
   "metadata": {
    "slideshow": {
     "slide_type": "slide"
    }
   },
   "source": [
    "## ¿Cómo accedemos a los datos de un grupo concreto?\n",
    "\n",
    "Alomejor lo que perseguimos és obtener los datos de una sola categoria. Para obtenerlos se puede hacer de la siguiente manera:"
   ]
  },
  {
   "cell_type": "code",
   "execution_count": 20,
   "metadata": {
    "slideshow": {
     "slide_type": "subslide"
    }
   },
   "outputs": [
    {
     "name": "stdout",
     "output_type": "stream",
     "text": [
      "cap6\n",
      "  Nombre Apellidos  Altura Sexo  Nacimiento   Cof Categoria\n",
      "2   Laia   Ramirez    1.87    F  09/10/1987  0.76      cap6\n",
      "3   Luzy      Raim    1.67    F  23/07/1979  0.56      cap6\n",
      "4   Fein      Mang    1.78    M  12/03/1937  0.27      cap6\n",
      "____________________________________________________________\n",
      "cap8\n",
      "   Nombre Apellidos  Altura Sexo  Nacimiento   Cof Categoria\n",
      "5  Victor     Colom    1.78    M  22/09/1957  0.97      cap8\n",
      "____________________________________________________________\n",
      "laboral\n",
      "  Nombre Apellidos  Altura Sexo  Nacimiento   Cof Categoria\n",
      "0   Will     Smith    1.43    M  10/10/1920  0.19   laboral\n",
      "1    Jon      Snow    1.98    M   10/1/1970  0.98   laboral\n",
      "____________________________________________________________\n"
     ]
    }
   ],
   "source": [
    "for name, group in df.groupby('Categoria'): \n",
    "    # Imprime el nombre\n",
    "    print(name)\n",
    "    # Imprime el grupo\n",
    "    print(group)\n",
    "    \n",
    "    print(\"_\"*60)"
   ]
  },
  {
   "cell_type": "markdown",
   "metadata": {
    "slideshow": {
     "slide_type": "slide"
    }
   },
   "source": [
    "Así pues, para consultar los datos de un único grupo se puede hacer así:"
   ]
  },
  {
   "cell_type": "code",
   "execution_count": 10,
   "metadata": {},
   "outputs": [
    {
     "data": {
      "text/html": [
       "<div>\n",
       "<style scoped>\n",
       "    .dataframe tbody tr th:only-of-type {\n",
       "        vertical-align: middle;\n",
       "    }\n",
       "\n",
       "    .dataframe tbody tr th {\n",
       "        vertical-align: top;\n",
       "    }\n",
       "\n",
       "    .dataframe thead th {\n",
       "        text-align: right;\n",
       "    }\n",
       "</style>\n",
       "<table border=\"1\" class=\"dataframe\">\n",
       "  <thead>\n",
       "    <tr style=\"text-align: right;\">\n",
       "      <th></th>\n",
       "      <th>Nombre</th>\n",
       "      <th>Apellidos</th>\n",
       "      <th>Altura</th>\n",
       "      <th>Sexo</th>\n",
       "      <th>Nacimiento</th>\n",
       "      <th>Cof</th>\n",
       "      <th>Categoria</th>\n",
       "    </tr>\n",
       "  </thead>\n",
       "  <tbody>\n",
       "    <tr>\n",
       "      <th>2</th>\n",
       "      <td>Laia</td>\n",
       "      <td>Ramirez</td>\n",
       "      <td>1.87</td>\n",
       "      <td>F</td>\n",
       "      <td>09/10/1987</td>\n",
       "      <td>0.76</td>\n",
       "      <td>cap6</td>\n",
       "    </tr>\n",
       "    <tr>\n",
       "      <th>3</th>\n",
       "      <td>Luzy</td>\n",
       "      <td>Raim</td>\n",
       "      <td>1.67</td>\n",
       "      <td>F</td>\n",
       "      <td>23/07/1979</td>\n",
       "      <td>0.56</td>\n",
       "      <td>cap6</td>\n",
       "    </tr>\n",
       "    <tr>\n",
       "      <th>4</th>\n",
       "      <td>Fein</td>\n",
       "      <td>Mang</td>\n",
       "      <td>1.78</td>\n",
       "      <td>M</td>\n",
       "      <td>12/03/1937</td>\n",
       "      <td>0.27</td>\n",
       "      <td>cap6</td>\n",
       "    </tr>\n",
       "  </tbody>\n",
       "</table>\n",
       "</div>"
      ],
      "text/plain": [
       "  Nombre Apellidos  Altura Sexo  Nacimiento   Cof Categoria\n",
       "2   Laia   Ramirez    1.87    F  09/10/1987  0.76      cap6\n",
       "3   Luzy      Raim    1.67    F  23/07/1979  0.56      cap6\n",
       "4   Fein      Mang    1.78    M  12/03/1937  0.27      cap6"
      ]
     },
     "execution_count": 10,
     "metadata": {},
     "output_type": "execute_result"
    }
   ],
   "source": [
    "df.groupby('Categoria').get_group(\"cap6\")"
   ]
  },
  {
   "cell_type": "markdown",
   "metadata": {
    "slideshow": {
     "slide_type": "slide"
    }
   },
   "source": [
    "# Ejercicios"
   ]
  },
  {
   "cell_type": "markdown",
   "metadata": {},
   "source": [
    "**1) Usando el fichero WHO.csv, ¿Cuál es el volumen total de CO2 emitido por cada continente?**"
   ]
  },
  {
   "cell_type": "code",
   "execution_count": null,
   "metadata": {},
   "outputs": [],
   "source": []
  },
  {
   "cell_type": "markdown",
   "metadata": {},
   "source": [
    "**2) ¿Cuál es el número de paises por continente?**"
   ]
  },
  {
   "cell_type": "code",
   "execution_count": null,
   "metadata": {},
   "outputs": [],
   "source": []
  },
  {
   "cell_type": "markdown",
   "metadata": {},
   "source": [
    "**3) Carga el fichero climaMallorca.csv: ¿Cual es la temperatura máxima cuando el viento es inferior a 10? ¿Cuántas muestras hay?**"
   ]
  },
  {
   "cell_type": "code",
   "execution_count": null,
   "metadata": {},
   "outputs": [],
   "source": []
  },
  {
   "cell_type": "markdown",
   "metadata": {},
   "source": [
    "**4) ¿Cual es la temperatura máxima cuando el viento es superior a 10 y inferior a 20? ¿Cuántas muestras hay?**"
   ]
  },
  {
   "cell_type": "code",
   "execution_count": null,
   "metadata": {},
   "outputs": [],
   "source": []
  },
  {
   "cell_type": "markdown",
   "metadata": {},
   "source": [
    "**5) Del conjunto \"who.csv\" selecciona al azar: 30 paises y calcula la media de \"Net primary school enrolment ratio female (%)\" agrupado por Continente**\n",
    "\n",
    "Nota: la selección de 30 paises se puede hacer con una función del objeto DataFrame"
   ]
  },
  {
   "cell_type": "code",
   "execution_count": null,
   "metadata": {},
   "outputs": [],
   "source": []
  },
  {
   "cell_type": "markdown",
   "metadata": {},
   "source": [
    "**6) Repite la anterior actividad pero ahora con todos los paises. ¿Sale la misma media?**"
   ]
  },
  {
   "cell_type": "code",
   "execution_count": null,
   "metadata": {},
   "outputs": [],
   "source": []
  },
  {
   "cell_type": "markdown",
   "metadata": {},
   "source": [
    "**7) Repasemos: Guarda el fichero WHO.csv en un fichero HDF5**"
   ]
  },
  {
   "cell_type": "code",
   "execution_count": null,
   "metadata": {},
   "outputs": [],
   "source": []
  }
 ],
 "metadata": {
  "celltoolbar": "Slideshow",
  "kernelspec": {
   "display_name": "Python 3",
   "language": "python",
   "name": "python3"
  },
  "language_info": {
   "codemirror_mode": {
    "name": "ipython",
    "version": 3
   },
   "file_extension": ".py",
   "mimetype": "text/x-python",
   "name": "python",
   "nbconvert_exporter": "python",
   "pygments_lexer": "ipython3",
   "version": "3.7.4"
  }
 },
 "nbformat": 4,
 "nbformat_minor": 1
}
