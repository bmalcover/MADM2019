{
 "cells": [
  {
   "cell_type": "markdown",
   "metadata": {
    "slideshow": {
     "slide_type": "slide"
    }
   },
   "source": [
    "# Gestionando datos perdidos\n",
    "\n",
    "Ocurre con frecuencia, y desgraciadamente, la obtención de datos anómalos o incluso la ausencia de muestras.\n",
    "\n",
    "Por ejemplo, los datos obtenidos a partir de encuestas: preguntas sin responder, preguntas con respuestas \"raras\", etc.\n",
    "\n",
    "**Hay que aceptarlo y saber gestionarlo**\n",
    "\n",
    "En Pandas, los valores perdidos se les asigna el código: NaN (Not a Number), los objetos son designados como: None y las fechas como NaT.\n",
    "\n",
    "Las operaciones que gestionen este tipo de datos también generarán los correspondientes códigos: NaN, None o NaT.\n",
    "\n",
    "¡Vamos a trabajar con estos valores!\n",
    "\n"
   ]
  },
  {
   "cell_type": "code",
   "execution_count": 3,
   "metadata": {},
   "outputs": [],
   "source": [
    "import pandas as pd"
   ]
  },
  {
   "cell_type": "markdown",
   "metadata": {
    "slideshow": {
     "slide_type": "slide"
    }
   },
   "source": [
    "## Contenido\n",
    "\n",
    "- M2_0 Introducción a la estructura DataFrame: características, carga y acceso.**\n",
    "- M2_1 Creación y Almacenamiento.\n",
    "- M2_2 Visualización con pandas.\n",
    "- M2_3 Otras operaciones con DataFrames: agrupaciones de datos.\n",
    "- **M2_4 Gestionando datos perdidos**.\n",
    "- M2_5 Series temporales."
   ]
  },
  {
   "cell_type": "code",
   "execution_count": 4,
   "metadata": {
    "slideshow": {
     "slide_type": "slide"
    }
   },
   "outputs": [
    {
     "name": "stdout",
     "output_type": "stream",
     "text": [
      "       Country  Urban_population_growth\n",
      "0  Afghanistan                     5.44\n",
      "1      Albania                     2.21\n",
      "2      Algeria                     2.61\n",
      "3      Andorra                      NaN\n",
      "4       Angola                     4.14\n"
     ]
    }
   ],
   "source": [
    "#Empezamos cargando datos: who.csv con 358 columnas!\n",
    "df = pd.read_csv(\"data/who.csv\")\n",
    "df = df[[\"Country\",df.columns[-2]]]\n",
    "print(df[:5])"
   ]
  },
  {
   "cell_type": "code",
   "execution_count": 6,
   "metadata": {
    "slideshow": {
     "slide_type": "fragment"
    }
   },
   "outputs": [
    {
     "name": "stdout",
     "output_type": "stream",
     "text": [
      "       Country  Urban_population_growth\n",
      "0  Afghanistan                     5.44\n",
      "1      Albania                     2.21\n",
      "2      Algeria                     2.61\n",
      "3      Andorra                      NaN\n",
      "4       Angola                     4.14\n"
     ]
    }
   ],
   "source": [
    "# Atención: Si el fichero es MUY pesado es recomendable cargar solo la información que nos interesa\n",
    "# https://pandas.pydata.org/pandas-docs/stable/reference/api/pandas.read_csv.html\n",
    "df = pd.read_csv(\"data/who.csv\", usecols=[\"Country\",\"Urban_population_growth\"])\n",
    "print(df[:5])"
   ]
  },
  {
   "cell_type": "code",
   "execution_count": 8,
   "metadata": {
    "slideshow": {
     "slide_type": "slide"
    }
   },
   "outputs": [
    {
     "name": "stdout",
     "output_type": "stream",
     "text": [
      "Index(['Urban_population_growth'], dtype='object')\n"
     ]
    }
   ],
   "source": [
    "#¿Qué columnas tienen datos \"NaX\"?\n",
    "# https://pandas.pydata.org/pandas-docs/stable/reference/api/pandas.DataFrame.isna.html\n",
    "print(df.columns[df.isna().any()])"
   ]
  },
  {
   "cell_type": "code",
   "execution_count": 31,
   "metadata": {
    "slideshow": {
     "slide_type": "fragment"
    }
   },
   "outputs": [
    {
     "name": "stdout",
     "output_type": "stream",
     "text": [
      "   Country  Urban_population_growth\n",
      "0    False                    False\n",
      "1    False                    False\n",
      "2    False                    False\n",
      "3    False                     True\n",
      "4    False                    False\n"
     ]
    }
   ],
   "source": [
    "#No dudéis en ejecutar \"partes\" (dividamos la instrucción para comprenderla)\n",
    "print df.isna()[:5]"
   ]
  },
  {
   "cell_type": "code",
   "execution_count": 36,
   "metadata": {
    "slideshow": {
     "slide_type": "slide"
    }
   },
   "outputs": [
    {
     "name": "stdout",
     "output_type": "stream",
     "text": [
      "Country                    202\n",
      "Urban_population_growth    188\n",
      "dtype: int64\n",
      "Total de muestras:  202\n"
     ]
    }
   ],
   "source": [
    "#¿Cuántas muestras son correctas? \n",
    "print pd.notna(df).sum() #**\n",
    "print \"Total de muestras: \",len(df)"
   ]
  },
  {
   "cell_type": "code",
   "execution_count": 39,
   "metadata": {
    "slideshow": {
     "slide_type": "slide"
    }
   },
   "outputs": [
    {
     "name": "stdout",
     "output_type": "stream",
     "text": [
      "       Country  Urban_population_growth\n",
      "0  Afghanistan                     5.44\n",
      "1      Albania                     2.21\n",
      "2      Algeria                     2.61\n",
      "3      Andorra                     0.00\n",
      "4       Angola                     4.14\n"
     ]
    }
   ],
   "source": [
    "#La manera más optima de remplazar estos valores es con la función: fillna\n",
    "print df.fillna(0)[:5]\n"
   ]
  },
  {
   "cell_type": "code",
   "execution_count": 40,
   "metadata": {
    "slideshow": {
     "slide_type": "fragment"
    }
   },
   "outputs": [],
   "source": [
    "df = df.fillna(0) #Atención: recordad que tenéis que hacer la asignación si queréis aplicar la operación"
   ]
  },
  {
   "cell_type": "markdown",
   "metadata": {
    "slideshow": {
     "slide_type": "slide"
    }
   },
   "source": [
    "#### Cuando los dataframes contienen números la operabildad con valores perdidos puede gestionarse de manera más eficiente\n",
    "Pongamos un ejemplo"
   ]
  },
  {
   "cell_type": "code",
   "execution_count": 39,
   "metadata": {
    "slideshow": {
     "slide_type": "slide"
    }
   },
   "outputs": [
    {
     "name": "stdout",
     "output_type": "stream",
     "text": [
      "        one       two     three\n",
      "a -0.188029 -1.439183 -1.673940\n",
      "b -0.678719 -1.369691 -1.675561\n",
      "c  1.470844  0.373619 -0.942060\n",
      "d  1.082727  0.293328  0.535404\n",
      "e  0.074285  1.067871 -0.472113\n"
     ]
    }
   ],
   "source": [
    "import numpy as np\n",
    "df.two = pd.DataFrame(np.random.randn(5, 3), \n",
    "                     index=['a', 'b', 'c', 'd', 'e'],\n",
    "                     columns=['one', 'two', 'three'])\n",
    "print(df.two)"
   ]
  },
  {
   "cell_type": "code",
   "execution_count": 40,
   "metadata": {
    "slideshow": {
     "slide_type": "slide"
    }
   },
   "outputs": [
    {
     "name": "stdout",
     "output_type": "stream",
     "text": [
      "        one       two     three\n",
      "a       NaN       NaN       NaN\n",
      "b       NaN       NaN       NaN\n",
      "c  1.470844  0.373619       NaN\n",
      "d  1.082727  0.293328  0.535404\n",
      "e  0.074285  1.067871       NaN\n"
     ]
    }
   ],
   "source": [
    "#Creamos valores NaN para testear \n",
    "df.two[df.two<0]=np.nan\n",
    "print(df.two)"
   ]
  },
  {
   "cell_type": "code",
   "execution_count": 99,
   "metadata": {},
   "outputs": [
    {
     "name": "stdout",
     "output_type": "stream",
     "text": [
      "        one       two     three\n",
      "a       NaN  0.653799       NaN\n",
      "b       NaN       NaN  0.444465\n",
      "c  1.077637  0.814909       NaN\n",
      "d       NaN       NaN  0.832263\n",
      "e       NaN  0.054621       NaN\n"
     ]
    }
   ],
   "source": [
    "# y por si las moscas, no nos fiémos del aleatorio.\n",
    "df.iloc[0,0] = np.nan\n",
    "print df"
   ]
  },
  {
   "cell_type": "markdown",
   "metadata": {
    "slideshow": {
     "slide_type": "slide"
    }
   },
   "source": [
    "#### Podemos usar fillNA para rellenar de manera elegante los valores. Por ejemplo, usando la media"
   ]
  },
  {
   "cell_type": "code",
   "execution_count": 41,
   "metadata": {},
   "outputs": [
    {
     "name": "stdout",
     "output_type": "stream",
     "text": [
      "                Country  Urban_population_growth\n",
      "0           Afghanistan                     5.44\n",
      "1               Albania                     2.21\n",
      "2               Algeria                     2.61\n",
      "3               Andorra                      NaN\n",
      "4                Angola                     4.14\n",
      "..                  ...                      ...\n",
      "197             Vietnam                     2.90\n",
      "198  West Bank and Gaza                     3.33\n",
      "199               Yemen                     4.37\n",
      "200              Zambia                     1.95\n",
      "201            Zimbabwe                     1.90\n",
      "\n",
      "[202 rows x 2 columns]\n",
      "---------------------------------\n"
     ]
    },
    {
     "data": {
      "text/html": [
       "<div>\n",
       "<style scoped>\n",
       "    .dataframe tbody tr th:only-of-type {\n",
       "        vertical-align: middle;\n",
       "    }\n",
       "\n",
       "    .dataframe tbody tr th {\n",
       "        vertical-align: top;\n",
       "    }\n",
       "\n",
       "    .dataframe thead th {\n",
       "        text-align: right;\n",
       "    }\n",
       "</style>\n",
       "<table border=\"1\" class=\"dataframe\">\n",
       "  <thead>\n",
       "    <tr style=\"text-align: right;\">\n",
       "      <th></th>\n",
       "      <th>Country</th>\n",
       "      <th>Urban_population_growth</th>\n",
       "    </tr>\n",
       "  </thead>\n",
       "  <tbody>\n",
       "    <tr>\n",
       "      <td>0</td>\n",
       "      <td>Afghanistan</td>\n",
       "      <td>5.440000</td>\n",
       "    </tr>\n",
       "    <tr>\n",
       "      <td>1</td>\n",
       "      <td>Albania</td>\n",
       "      <td>2.210000</td>\n",
       "    </tr>\n",
       "    <tr>\n",
       "      <td>2</td>\n",
       "      <td>Algeria</td>\n",
       "      <td>2.610000</td>\n",
       "    </tr>\n",
       "    <tr>\n",
       "      <td>3</td>\n",
       "      <td>Andorra</td>\n",
       "      <td>2.165851</td>\n",
       "    </tr>\n",
       "    <tr>\n",
       "      <td>4</td>\n",
       "      <td>Angola</td>\n",
       "      <td>4.140000</td>\n",
       "    </tr>\n",
       "    <tr>\n",
       "      <td>...</td>\n",
       "      <td>...</td>\n",
       "      <td>...</td>\n",
       "    </tr>\n",
       "    <tr>\n",
       "      <td>197</td>\n",
       "      <td>Vietnam</td>\n",
       "      <td>2.900000</td>\n",
       "    </tr>\n",
       "    <tr>\n",
       "      <td>198</td>\n",
       "      <td>West Bank and Gaza</td>\n",
       "      <td>3.330000</td>\n",
       "    </tr>\n",
       "    <tr>\n",
       "      <td>199</td>\n",
       "      <td>Yemen</td>\n",
       "      <td>4.370000</td>\n",
       "    </tr>\n",
       "    <tr>\n",
       "      <td>200</td>\n",
       "      <td>Zambia</td>\n",
       "      <td>1.950000</td>\n",
       "    </tr>\n",
       "    <tr>\n",
       "      <td>201</td>\n",
       "      <td>Zimbabwe</td>\n",
       "      <td>1.900000</td>\n",
       "    </tr>\n",
       "  </tbody>\n",
       "</table>\n",
       "<p>202 rows × 2 columns</p>\n",
       "</div>"
      ],
      "text/plain": [
       "                Country  Urban_population_growth\n",
       "0           Afghanistan                 5.440000\n",
       "1               Albania                 2.210000\n",
       "2               Algeria                 2.610000\n",
       "3               Andorra                 2.165851\n",
       "4                Angola                 4.140000\n",
       "..                  ...                      ...\n",
       "197             Vietnam                 2.900000\n",
       "198  West Bank and Gaza                 3.330000\n",
       "199               Yemen                 4.370000\n",
       "200              Zambia                 1.950000\n",
       "201            Zimbabwe                 1.900000\n",
       "\n",
       "[202 rows x 2 columns]"
      ]
     },
     "execution_count": 41,
     "metadata": {},
     "output_type": "execute_result"
    }
   ],
   "source": [
    "print(df)\n",
    "print(\"-\"*33)\n",
    "df.fillna(df.mean())"
   ]
  },
  {
   "cell_type": "code",
   "execution_count": 15,
   "metadata": {},
   "outputs": [
    {
     "data": {
      "text/html": [
       "<div>\n",
       "<style scoped>\n",
       "    .dataframe tbody tr th:only-of-type {\n",
       "        vertical-align: middle;\n",
       "    }\n",
       "\n",
       "    .dataframe tbody tr th {\n",
       "        vertical-align: top;\n",
       "    }\n",
       "\n",
       "    .dataframe thead th {\n",
       "        text-align: right;\n",
       "    }\n",
       "</style>\n",
       "<table border=\"1\" class=\"dataframe\">\n",
       "  <thead>\n",
       "    <tr style=\"text-align: right;\">\n",
       "      <th></th>\n",
       "      <th>Country</th>\n",
       "      <th>Urban_population_growth</th>\n",
       "    </tr>\n",
       "  </thead>\n",
       "  <tbody>\n",
       "    <tr>\n",
       "      <td>0</td>\n",
       "      <td>Afghanistan</td>\n",
       "      <td>5.440000</td>\n",
       "    </tr>\n",
       "    <tr>\n",
       "      <td>1</td>\n",
       "      <td>Albania</td>\n",
       "      <td>2.210000</td>\n",
       "    </tr>\n",
       "    <tr>\n",
       "      <td>2</td>\n",
       "      <td>Algeria</td>\n",
       "      <td>2.610000</td>\n",
       "    </tr>\n",
       "    <tr>\n",
       "      <td>3</td>\n",
       "      <td>Andorra</td>\n",
       "      <td>2.165851</td>\n",
       "    </tr>\n",
       "    <tr>\n",
       "      <td>4</td>\n",
       "      <td>Angola</td>\n",
       "      <td>4.140000</td>\n",
       "    </tr>\n",
       "    <tr>\n",
       "      <td>...</td>\n",
       "      <td>...</td>\n",
       "      <td>...</td>\n",
       "    </tr>\n",
       "    <tr>\n",
       "      <td>197</td>\n",
       "      <td>Vietnam</td>\n",
       "      <td>2.900000</td>\n",
       "    </tr>\n",
       "    <tr>\n",
       "      <td>198</td>\n",
       "      <td>West Bank and Gaza</td>\n",
       "      <td>3.330000</td>\n",
       "    </tr>\n",
       "    <tr>\n",
       "      <td>199</td>\n",
       "      <td>Yemen</td>\n",
       "      <td>4.370000</td>\n",
       "    </tr>\n",
       "    <tr>\n",
       "      <td>200</td>\n",
       "      <td>Zambia</td>\n",
       "      <td>1.950000</td>\n",
       "    </tr>\n",
       "    <tr>\n",
       "      <td>201</td>\n",
       "      <td>Zimbabwe</td>\n",
       "      <td>1.900000</td>\n",
       "    </tr>\n",
       "  </tbody>\n",
       "</table>\n",
       "<p>202 rows × 2 columns</p>\n",
       "</div>"
      ],
      "text/plain": [
       "                Country  Urban_population_growth\n",
       "0           Afghanistan                 5.440000\n",
       "1               Albania                 2.210000\n",
       "2               Algeria                 2.610000\n",
       "3               Andorra                 2.165851\n",
       "4                Angola                 4.140000\n",
       "..                  ...                      ...\n",
       "197             Vietnam                 2.900000\n",
       "198  West Bank and Gaza                 3.330000\n",
       "199               Yemen                 4.370000\n",
       "200              Zambia                 1.950000\n",
       "201            Zimbabwe                 1.900000\n",
       "\n",
       "[202 rows x 2 columns]"
      ]
     },
     "execution_count": 15,
     "metadata": {},
     "output_type": "execute_result"
    }
   ],
   "source": [
    "#Con la media de un valor en concreto\n",
    "df.fillna(df.mean())"
   ]
  },
  {
   "cell_type": "markdown",
   "metadata": {
    "slideshow": {
     "slide_type": "slide"
    }
   },
   "source": [
    "**Break conceptual:**\n",
    "\n",
    "Se pueden realizar operaciones matemáticas con los dataframes... (recordatorio)"
   ]
  },
  {
   "cell_type": "code",
   "execution_count": 16,
   "metadata": {},
   "outputs": [
    {
     "data": {
      "text/html": [
       "<div>\n",
       "<style scoped>\n",
       "    .dataframe tbody tr th:only-of-type {\n",
       "        vertical-align: middle;\n",
       "    }\n",
       "\n",
       "    .dataframe tbody tr th {\n",
       "        vertical-align: top;\n",
       "    }\n",
       "\n",
       "    .dataframe thead th {\n",
       "        text-align: right;\n",
       "    }\n",
       "</style>\n",
       "<table border=\"1\" class=\"dataframe\">\n",
       "  <thead>\n",
       "    <tr style=\"text-align: right;\">\n",
       "      <th></th>\n",
       "      <th>Country</th>\n",
       "      <th>Urban_population_growth</th>\n",
       "    </tr>\n",
       "  </thead>\n",
       "  <tbody>\n",
       "    <tr>\n",
       "      <td>0</td>\n",
       "      <td>Afghanistan</td>\n",
       "      <td>5.44</td>\n",
       "    </tr>\n",
       "    <tr>\n",
       "      <td>1</td>\n",
       "      <td>Albania</td>\n",
       "      <td>2.21</td>\n",
       "    </tr>\n",
       "    <tr>\n",
       "      <td>2</td>\n",
       "      <td>Algeria</td>\n",
       "      <td>2.61</td>\n",
       "    </tr>\n",
       "    <tr>\n",
       "      <td>3</td>\n",
       "      <td>Andorra</td>\n",
       "      <td>NaN</td>\n",
       "    </tr>\n",
       "    <tr>\n",
       "      <td>4</td>\n",
       "      <td>Angola</td>\n",
       "      <td>4.14</td>\n",
       "    </tr>\n",
       "    <tr>\n",
       "      <td>...</td>\n",
       "      <td>...</td>\n",
       "      <td>...</td>\n",
       "    </tr>\n",
       "    <tr>\n",
       "      <td>197</td>\n",
       "      <td>Vietnam</td>\n",
       "      <td>2.90</td>\n",
       "    </tr>\n",
       "    <tr>\n",
       "      <td>198</td>\n",
       "      <td>West Bank and Gaza</td>\n",
       "      <td>3.33</td>\n",
       "    </tr>\n",
       "    <tr>\n",
       "      <td>199</td>\n",
       "      <td>Yemen</td>\n",
       "      <td>4.37</td>\n",
       "    </tr>\n",
       "    <tr>\n",
       "      <td>200</td>\n",
       "      <td>Zambia</td>\n",
       "      <td>1.95</td>\n",
       "    </tr>\n",
       "    <tr>\n",
       "      <td>201</td>\n",
       "      <td>Zimbabwe</td>\n",
       "      <td>1.90</td>\n",
       "    </tr>\n",
       "  </tbody>\n",
       "</table>\n",
       "<p>202 rows × 2 columns</p>\n",
       "</div>"
      ],
      "text/plain": [
       "                Country  Urban_population_growth\n",
       "0           Afghanistan                     5.44\n",
       "1               Albania                     2.21\n",
       "2               Algeria                     2.61\n",
       "3               Andorra                      NaN\n",
       "4                Angola                     4.14\n",
       "..                  ...                      ...\n",
       "197             Vietnam                     2.90\n",
       "198  West Bank and Gaza                     3.33\n",
       "199               Yemen                     4.37\n",
       "200              Zambia                     1.95\n",
       "201            Zimbabwe                     1.90\n",
       "\n",
       "[202 rows x 2 columns]"
      ]
     },
     "execution_count": 16,
     "metadata": {},
     "output_type": "execute_result"
    }
   ],
   "source": [
    "df"
   ]
  },
  {
   "cell_type": "code",
   "execution_count": 28,
   "metadata": {},
   "outputs": [
    {
     "name": "stdout",
     "output_type": "stream",
     "text": [
      "(202, 2)\n",
      "(202, 2)\n"
     ]
    },
    {
     "data": {
      "text/html": [
       "<div>\n",
       "<style scoped>\n",
       "    .dataframe tbody tr th:only-of-type {\n",
       "        vertical-align: middle;\n",
       "    }\n",
       "\n",
       "    .dataframe tbody tr th {\n",
       "        vertical-align: top;\n",
       "    }\n",
       "\n",
       "    .dataframe thead th {\n",
       "        text-align: right;\n",
       "    }\n",
       "</style>\n",
       "<table border=\"1\" class=\"dataframe\">\n",
       "  <thead>\n",
       "    <tr style=\"text-align: right;\">\n",
       "      <th></th>\n",
       "      <th>Country</th>\n",
       "      <th>Urban_population_growth</th>\n",
       "    </tr>\n",
       "  </thead>\n",
       "  <tbody>\n",
       "    <tr>\n",
       "      <td>0</td>\n",
       "      <td>AfghanistanAfghanistan</td>\n",
       "      <td>10.88</td>\n",
       "    </tr>\n",
       "    <tr>\n",
       "      <td>1</td>\n",
       "      <td>AlbaniaAlbania</td>\n",
       "      <td>4.42</td>\n",
       "    </tr>\n",
       "    <tr>\n",
       "      <td>2</td>\n",
       "      <td>AlgeriaAlgeria</td>\n",
       "      <td>5.22</td>\n",
       "    </tr>\n",
       "    <tr>\n",
       "      <td>3</td>\n",
       "      <td>AndorraAndorra</td>\n",
       "      <td>NaN</td>\n",
       "    </tr>\n",
       "    <tr>\n",
       "      <td>4</td>\n",
       "      <td>AngolaAngola</td>\n",
       "      <td>8.28</td>\n",
       "    </tr>\n",
       "    <tr>\n",
       "      <td>...</td>\n",
       "      <td>...</td>\n",
       "      <td>...</td>\n",
       "    </tr>\n",
       "    <tr>\n",
       "      <td>197</td>\n",
       "      <td>VietnamVietnam</td>\n",
       "      <td>5.80</td>\n",
       "    </tr>\n",
       "    <tr>\n",
       "      <td>198</td>\n",
       "      <td>West Bank and GazaWest Bank and Gaza</td>\n",
       "      <td>6.66</td>\n",
       "    </tr>\n",
       "    <tr>\n",
       "      <td>199</td>\n",
       "      <td>YemenYemen</td>\n",
       "      <td>8.74</td>\n",
       "    </tr>\n",
       "    <tr>\n",
       "      <td>200</td>\n",
       "      <td>ZambiaZambia</td>\n",
       "      <td>3.90</td>\n",
       "    </tr>\n",
       "    <tr>\n",
       "      <td>201</td>\n",
       "      <td>ZimbabweZimbabwe</td>\n",
       "      <td>3.80</td>\n",
       "    </tr>\n",
       "  </tbody>\n",
       "</table>\n",
       "<p>202 rows × 2 columns</p>\n",
       "</div>"
      ],
      "text/plain": [
       "                                  Country  Urban_population_growth\n",
       "0                  AfghanistanAfghanistan                    10.88\n",
       "1                          AlbaniaAlbania                     4.42\n",
       "2                          AlgeriaAlgeria                     5.22\n",
       "3                          AndorraAndorra                      NaN\n",
       "4                            AngolaAngola                     8.28\n",
       "..                                    ...                      ...\n",
       "197                        VietnamVietnam                     5.80\n",
       "198  West Bank and GazaWest Bank and Gaza                     6.66\n",
       "199                            YemenYemen                     8.74\n",
       "200                          ZambiaZambia                     3.90\n",
       "201                      ZimbabweZimbabwe                     3.80\n",
       "\n",
       "[202 rows x 2 columns]"
      ]
     },
     "execution_count": 28,
     "metadata": {},
     "output_type": "execute_result"
    }
   ],
   "source": [
    "df2 = df + df\n",
    "print(df.shape)\n",
    "print(df2.shape)\n",
    "\n",
    "# Vamos a ver como es df y como es df2"
   ]
  },
  {
   "cell_type": "markdown",
   "metadata": {
    "slideshow": {
     "slide_type": "slide"
    }
   },
   "source": [
    "## Eliminación de datos perdidos: Otra manera de operar con ellos\n"
   ]
  },
  {
   "cell_type": "code",
   "execution_count": 42,
   "metadata": {},
   "outputs": [
    {
     "name": "stdout",
     "output_type": "stream",
     "text": [
      "        one       two  three\n",
      "a       NaN       NaN      3\n",
      "b       NaN       NaN      3\n",
      "c  1.470844  0.373619      3\n",
      "d  1.082727  0.293328      3\n",
      "e  0.074285  1.067871      3\n",
      "-----------------------------------\n",
      "        one       two  three\n",
      "c  1.470844  0.373619      3\n",
      "d  1.082727  0.293328      3\n",
      "e  0.074285  1.067871      3\n"
     ]
    }
   ],
   "source": [
    "df.two[\"three\"]=[3]*5\n",
    "#[3]*5 == [3,3,3,3,3]\n",
    "print(df.two)\n",
    "print(\"-\"*35)\n",
    "print(df.two.dropna())"
   ]
  },
  {
   "cell_type": "code",
   "execution_count": 43,
   "metadata": {
    "slideshow": {
     "slide_type": "slide"
    }
   },
   "outputs": [
    {
     "data": {
      "text/html": [
       "<div>\n",
       "<style scoped>\n",
       "    .dataframe tbody tr th:only-of-type {\n",
       "        vertical-align: middle;\n",
       "    }\n",
       "\n",
       "    .dataframe tbody tr th {\n",
       "        vertical-align: top;\n",
       "    }\n",
       "\n",
       "    .dataframe thead th {\n",
       "        text-align: right;\n",
       "    }\n",
       "</style>\n",
       "<table border=\"1\" class=\"dataframe\">\n",
       "  <thead>\n",
       "    <tr style=\"text-align: right;\">\n",
       "      <th></th>\n",
       "      <th>three</th>\n",
       "    </tr>\n",
       "  </thead>\n",
       "  <tbody>\n",
       "    <tr>\n",
       "      <td>a</td>\n",
       "      <td>3</td>\n",
       "    </tr>\n",
       "    <tr>\n",
       "      <td>b</td>\n",
       "      <td>3</td>\n",
       "    </tr>\n",
       "    <tr>\n",
       "      <td>c</td>\n",
       "      <td>3</td>\n",
       "    </tr>\n",
       "    <tr>\n",
       "      <td>d</td>\n",
       "      <td>3</td>\n",
       "    </tr>\n",
       "    <tr>\n",
       "      <td>e</td>\n",
       "      <td>3</td>\n",
       "    </tr>\n",
       "  </tbody>\n",
       "</table>\n",
       "</div>"
      ],
      "text/plain": [
       "   three\n",
       "a      3\n",
       "b      3\n",
       "c      3\n",
       "d      3\n",
       "e      3"
      ]
     },
     "execution_count": 43,
     "metadata": {},
     "output_type": "execute_result"
    }
   ],
   "source": [
    "#Otra manera de borrar los datos es considerando las coumnas (axis=1) por defecto es axis=0\n",
    "df.two.dropna(axis=1)"
   ]
  },
  {
   "cell_type": "markdown",
   "metadata": {
    "slideshow": {
     "slide_type": "slide"
    }
   },
   "source": [
    "**La interpolación sirve como metodo para tratar con valores desconocidos.**"
   ]
  },
  {
   "cell_type": "code",
   "execution_count": 44,
   "metadata": {},
   "outputs": [
    {
     "name": "stdout",
     "output_type": "stream",
     "text": [
      "        one       two  three\n",
      "a       NaN       NaN      3\n",
      "b       NaN       NaN      3\n",
      "c  1.470844  0.373619      3\n",
      "d  1.082727  0.293328      3\n",
      "e  0.074285  1.067871      3\n",
      "-----------------------------------\n",
      "        one       two  three\n",
      "a       NaN       NaN      3\n",
      "b       NaN       NaN      3\n",
      "c  1.470844  0.373619      3\n",
      "d  1.082727  0.293328      3\n",
      "e  0.074285  1.067871      3\n"
     ]
    }
   ],
   "source": [
    "print(df.two)\n",
    "print(\"-\"*35)\n",
    "print(df.two.interpolate())"
   ]
  },
  {
   "cell_type": "code",
   "execution_count": 48,
   "metadata": {},
   "outputs": [
    {
     "name": "stdout",
     "output_type": "stream",
     "text": [
      "Valores interpolados:one      0\n",
      "two      0\n",
      "three    0\n",
      "dtype: int64\n"
     ]
    }
   ],
   "source": [
    "print(\"Valores interpolados:\" + str(df.two.interpolate().count()-df.two.count()))"
   ]
  },
  {
   "cell_type": "markdown",
   "metadata": {
    "slideshow": {
     "slide_type": "slide"
    }
   },
   "source": [
    "### Hay múltiples maneras de interpolar:\n",
    "\n",
    "En la documentación vemos una serie de ejemplos: <a target=\"_blank\" href=\"https://pandas.pydata.org/pandas-docs/stable/generated/pandas.Series.interpolate.html\"> Interpolate </a> (See)"
   ]
  },
  {
   "cell_type": "markdown",
   "metadata": {
    "slideshow": {
     "slide_type": "slide"
    }
   },
   "source": [
    "# Ejercicios de gestión de valores perdidos"
   ]
  },
  {
   "cell_type": "markdown",
   "metadata": {},
   "source": [
    "**1) Del fichero who.csv, contabiliza cuántos paises tienen algun valor NaN.**"
   ]
  },
  {
   "cell_type": "code",
   "execution_count": null,
   "metadata": {
    "collapsed": true
   },
   "outputs": [],
   "source": []
  },
  {
   "cell_type": "markdown",
   "metadata": {},
   "source": [
    "**1b) Ordena el anterior resultado para identificar cuál es el pais con mayor número de campos desconocidos.**"
   ]
  },
  {
   "cell_type": "code",
   "execution_count": null,
   "metadata": {
    "collapsed": true
   },
   "outputs": [],
   "source": []
  },
  {
   "cell_type": "markdown",
   "metadata": {
    "slideshow": {
     "slide_type": "-"
    }
   },
   "source": [
    "**2) who.csv, Selecciona la primera, tercera y decima columna, de las filas comprendidas entre la 100 y la 150.**"
   ]
  },
  {
   "cell_type": "code",
   "execution_count": null,
   "metadata": {
    "collapsed": true
   },
   "outputs": [],
   "source": []
  },
  {
   "cell_type": "markdown",
   "metadata": {},
   "source": [
    "**2b) ¿Cuántos valores NaN hay presentes?**"
   ]
  },
  {
   "cell_type": "code",
   "execution_count": null,
   "metadata": {
    "collapsed": true
   },
   "outputs": [],
   "source": []
  },
  {
   "cell_type": "markdown",
   "metadata": {},
   "source": [
    "**2c) Crea un nuevo dataframe donde los NaN sean cero.**"
   ]
  },
  {
   "cell_type": "code",
   "execution_count": null,
   "metadata": {
    "collapsed": true
   },
   "outputs": [],
   "source": []
  },
  {
   "cell_type": "markdown",
   "metadata": {},
   "source": [
    "**2d) Elimina aquellas filas de la anterior selección donde haya NaN.**"
   ]
  },
  {
   "cell_type": "code",
   "execution_count": null,
   "metadata": {
    "collapsed": true
   },
   "outputs": [],
   "source": []
  },
  {
   "cell_type": "markdown",
   "metadata": {},
   "source": [
    "**3) Genera un dataframe de 5 x 100, con números aleatorios entre 0-10. Las celdas que superen un valor de >=8 se conviertan en valores NaN.**"
   ]
  },
  {
   "cell_type": "code",
   "execution_count": null,
   "metadata": {
    "collapsed": true
   },
   "outputs": [],
   "source": []
  },
  {
   "cell_type": "markdown",
   "metadata": {},
   "source": [
    "**3a) Interpola los anteriores valores mediante interpolación simple.**"
   ]
  },
  {
   "cell_type": "code",
   "execution_count": null,
   "metadata": {
    "collapsed": true
   },
   "outputs": [],
   "source": []
  },
  {
   "cell_type": "markdown",
   "metadata": {},
   "source": [
    "**3b) Interpola la serie 3, hasta un limite de 10 interpolaciones, con el metodo del más cercano \"nearest\".**"
   ]
  },
  {
   "cell_type": "code",
   "execution_count": null,
   "metadata": {
    "collapsed": true
   },
   "outputs": [],
   "source": []
  }
 ],
 "metadata": {
  "celltoolbar": "Slideshow",
  "kernelspec": {
   "display_name": "Python 3",
   "language": "python",
   "name": "python3"
  },
  "language_info": {
   "codemirror_mode": {
    "name": "ipython",
    "version": 3
   },
   "file_extension": ".py",
   "mimetype": "text/x-python",
   "name": "python",
   "nbconvert_exporter": "python",
   "pygments_lexer": "ipython3",
   "version": "3.7.4"
  }
 },
 "nbformat": 4,
 "nbformat_minor": 1
}
