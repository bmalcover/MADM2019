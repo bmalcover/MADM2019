{
 "cells": [
  {
   "cell_type": "markdown",
   "metadata": {
    "slideshow": {
     "slide_type": "slide"
    }
   },
   "source": [
    "\n",
    "<img src=\"img/intro/python_logo.png\">\n"
   ]
  },
  {
   "cell_type": "code",
   "execution_count": 1,
   "metadata": {
    "slideshow": {
     "slide_type": "slide"
    }
   },
   "outputs": [
    {
     "name": "stdout",
     "output_type": "stream",
     "text": [
      "Hello world!\n"
     ]
    }
   ],
   "source": [
    "print(\"Hello world!\")"
   ]
  },
  {
   "cell_type": "markdown",
   "metadata": {
    "slideshow": {
     "slide_type": "slide"
    }
   },
   "source": [
    "## Contenido\n",
    "\n",
    "1. Tipos de datos\n",
    "2. Estructuras\n",
    "3. Indexación\n",
    "4. Ejercicios"
   ]
  },
  {
   "cell_type": "markdown",
   "metadata": {
    "slideshow": {
     "slide_type": "slide"
    }
   },
   "source": [
    "### 1. Tipos de datos \n",
    "\n",
    "Estos son los tipos de datos básicos.\n",
    "\n",
    "* Números enteros: -1000, -2, 0, 33, 1234\n",
    "* Números decimales: -1.2, 0.3, 334.34\n",
    "* Cadenas de carácteres (*String*): \"Hola!\"\n",
    "* Booleanos: True, False.\n"
   ]
  },
  {
   "cell_type": "code",
   "execution_count": 2,
   "metadata": {
    "slideshow": {
     "slide_type": "fragment"
    }
   },
   "outputs": [
    {
     "data": {
      "text/plain": [
       "float"
      ]
     },
     "execution_count": 2,
     "metadata": {},
     "output_type": "execute_result"
    }
   ],
   "source": [
    "type(85.5)"
   ]
  },
  {
   "cell_type": "markdown",
   "metadata": {},
   "source": [
    "### 2. Variables\n",
    "\n",
    "Los datos que se utilizan dentro de los programas se guardan dentro de lo que se llaman variables.\n",
    "\n",
    "Tienen tres características que las definen completamente: nombre tipo y valor.\n",
    "\n",
    "Pueden tener un tipo de los que hemos visto anteriormente o de tipos complejos como veremos a continuación."
   ]
  },
  {
   "cell_type": "markdown",
   "metadata": {
    "slideshow": {
     "slide_type": "slide"
    }
   },
   "source": [
    "### 2. Estructuras de datos\n",
    "\n",
    "Las estructuras básicas de Python para organizar los datos son las listas y los diccionarios.\n",
    "\n"
   ]
  },
  {
   "cell_type": "markdown",
   "metadata": {},
   "source": [
    "**Listas**\n",
    "\n",
    "Es una colección ordenada de elementos, no tienen por que ser del mismo tipo.\n",
    "\n",
    "Si nos fijamos las listas son tipos de datos complejos ya que estan formados de otros tipos mas sencillos."
   ]
  },
  {
   "cell_type": "code",
   "execution_count": 3,
   "metadata": {},
   "outputs": [],
   "source": [
    "lista = []\n",
    "lista2 = [1, 2, 4]\n",
    "lista3 = [\"uno\", \"dos\", \"tres\"]\n",
    "lista4 = [1, \"dos\", 3.2]"
   ]
  },
  {
   "cell_type": "markdown",
   "metadata": {},
   "source": [
    "El operador ```in``` permite comprobar si un elemento esta dentro de una lista\n",
    "\n",
    "```python\n",
    "4 in [3, 4, 5, 6]\n",
    "True\n",
    "0 in [3, 4, 5, 6]\n",
    "False\n",
    "```"
   ]
  },
  {
   "cell_type": "markdown",
   "metadata": {},
   "source": [
    "Podemos añadir elementos al final de las listas mediante el nombre de la lista y el sufijo ```nombre.append()```.\n",
    "\n",
    "También podemos concatenar listas usando el operador ```+```.\n",
    "\n",
    "```python\n",
    "\n",
    "a = [1, 2, 3]\n",
    "b = [4, 5, 6]\n",
    "c = a+b\n",
    "print(c)\n",
    "[1, 2, 3, 4, 5, 6]\n",
    "\n",
    "a.append(4)\n",
    "print(a)\n",
    "[1, 2, 3, 4]\n",
    "``` "
   ]
  },
  {
   "cell_type": "markdown",
   "metadata": {
    "slideshow": {
     "slide_type": "slide"
    }
   },
   "source": [
    "**Diccionarios**\n",
    "\n",
    "Estructuras clave, valor. Los diccionarios son una manera limpia de asignar un valor a una clave. Ello nos permite recuperar un valor de forma rapida dada la clave. Se crean usando los curly brackets.\n",
    "```python\n",
    "mi_diccionario = {}\n",
    "```\n",
    "Creo la clave contacto y le asigno un nombre\n",
    "```python\n",
    "mi_diccionario['contacto'] = 'Juan'\n",
    "mi_diccionario['telefono'] = 123456\n",
    "mi_diccionario['edad'] = 30\n",
    "```\n",
    "\n",
    "Accedo al valor de la clave 'telefono'\n",
    "\n",
    "```python\n",
    "print(mi_diccionario['telefono'])\n",
    "123456\n",
    "```"
   ]
  },
  {
   "cell_type": "code",
   "execution_count": 1,
   "metadata": {
    "slideshow": {
     "slide_type": "fragment"
    }
   },
   "outputs": [],
   "source": [
    "dict1 ={}\n",
    "dict2 ={\n",
    "    \"key1\": [\"uep!\", \"com anam?\"],\n",
    "    \"key2\": \"valor 2\",\n",
    "    \"key3\": 3\n",
    "}"
   ]
  },
  {
   "cell_type": "code",
   "execution_count": 6,
   "metadata": {
    "slideshow": {
     "slide_type": "fragment"
    }
   },
   "outputs": [],
   "source": [
    "notas = {'Pedro': 9, 'Maria':10, 'Luis':8.5}\n",
    "\n",
    "# que nota ha sacado María ?\n",
    "\n",
    "\n",
    "# Qué pasa si intentamos acceder a un nombre que no existe?\n",
    "\n",
    "\n",
    "\n",
    "# Prueba ahora con notas.get('pepe'), ves alguna diferencia?\n",
    "\n"
   ]
  },
  {
   "cell_type": "markdown",
   "metadata": {
    "slideshow": {
     "slide_type": "slide"
    }
   },
   "source": [
    "\n",
    "## 3. Indexación\n",
    "\n",
    "Como acceder a los elementos de una lista.\n",
    "\n",
    "* Consultar un elemento.\n",
    "* Consultar un sub-array.\n",
    "  * Por posición.\n",
    "  * Vector de booleanos."
   ]
  },
  {
   "cell_type": "markdown",
   "metadata": {
    "slideshow": {
     "slide_type": "slide"
    }
   },
   "source": [
    "## Consultar un elemento de un array"
   ]
  },
  {
   "cell_type": "code",
   "execution_count": 7,
   "metadata": {
    "slideshow": {
     "slide_type": "fragment"
    }
   },
   "outputs": [],
   "source": [
    "array = [\"Primero\", \"Segundo\", \"Tercero\", \"Cuarto\", \"Quinto\", \"Sexto\", \"Séptimo\", \"Octavo\"]"
   ]
  },
  {
   "cell_type": "markdown",
   "metadata": {
    "slideshow": {
     "slide_type": "slide"
    }
   },
   "source": [
    "La lista empieza en la posición 0.\n",
    "\n",
    "Así que, para consultar el primer elemento hacemos lo siguiente:"
   ]
  },
  {
   "cell_type": "code",
   "execution_count": 8,
   "metadata": {
    "slideshow": {
     "slide_type": "fragment"
    }
   },
   "outputs": [
    {
     "data": {
      "text/plain": [
       "'Primero'"
      ]
     },
     "execution_count": 8,
     "metadata": {},
     "output_type": "execute_result"
    }
   ],
   "source": [
    "array[0]"
   ]
  },
  {
   "cell_type": "markdown",
   "metadata": {
    "slideshow": {
     "slide_type": "slide"
    }
   },
   "source": [
    "**¿Cómo consultariamos el quinto elemento?**"
   ]
  },
  {
   "cell_type": "code",
   "execution_count": null,
   "metadata": {
    "slideshow": {
     "slide_type": "fragment"
    }
   },
   "outputs": [],
   "source": []
  },
  {
   "cell_type": "markdown",
   "metadata": {
    "slideshow": {
     "slide_type": "slide"
    }
   },
   "source": [
    "### Acceso inverso\n",
    "\n",
    "¿Cómo consultamos el último elemento de un array del que no conocemos su longitud?"
   ]
  },
  {
   "cell_type": "code",
   "execution_count": null,
   "metadata": {
    "slideshow": {
     "slide_type": "fragment"
    }
   },
   "outputs": [],
   "source": [
    "array[-1]"
   ]
  },
  {
   "cell_type": "markdown",
   "metadata": {
    "slideshow": {
     "slide_type": "fragment"
    }
   },
   "source": [
    "Siguiendo esta lógica, ¿Podemos consultar el antepenúltimo sin saber la longitud de la lista?"
   ]
  },
  {
   "cell_type": "code",
   "execution_count": null,
   "metadata": {},
   "outputs": [],
   "source": []
  },
  {
   "cell_type": "markdown",
   "metadata": {
    "slideshow": {
     "slide_type": "slide"
    }
   },
   "source": [
    "## Accesso a sublistas\n",
    "\n",
    "Tècnicas: \n",
    "* Slicing\n",
    "* Vector de booleanos"
   ]
  },
  {
   "cell_type": "markdown",
   "metadata": {
    "slideshow": {
     "slide_type": "slide"
    }
   },
   "source": [
    "### Slicing\n",
    "\n",
    "El slicing se aplica a los vectores siguiendo la siguiente lógica. El resultado es un vector con los elementos seleccionados.\n",
    "\n",
    "```{python}\n",
    "sublista = lista[start:stop:step]\n",
    "```\n",
    "\n",
    "* **start** Posición de la lista original dónde empieza la sublista. Si no se indica és 0.\n",
    "* **stop**  Posición de la lista original hasta donde seleccionar. Si no se indica és la última posición.\n",
    "* **step**  Incremento entre cada índice de la selección, por defecto 1.\n",
    "\n",
    "Veamos un ejemplo. Para seleccionar desde el segundo elemento al quinto podriamos hacer como sigue:"
   ]
  },
  {
   "cell_type": "code",
   "execution_count": 9,
   "metadata": {
    "slideshow": {
     "slide_type": "fragment"
    }
   },
   "outputs": [
    {
     "data": {
      "text/plain": [
       "['Segundo', 'Tercero', 'Cuarto', 'Quinto']"
      ]
     },
     "execution_count": 9,
     "metadata": {},
     "output_type": "execute_result"
    }
   ],
   "source": [
    "array[1:5]"
   ]
  },
  {
   "cell_type": "markdown",
   "metadata": {
    "slideshow": {
     "slide_type": "slide"
    }
   },
   "source": [
    "Usos típicos:\n",
    "* Seleccionar los n primeros (o últimos) elementos de una lista.\n",
    "* Eliminar los primeros (o últimos) valores de una secuencia."
   ]
  },
  {
   "cell_type": "code",
   "execution_count": 10,
   "metadata": {
    "slideshow": {
     "slide_type": "fragment"
    }
   },
   "outputs": [
    {
     "data": {
      "text/plain": [
       "['Primero', 'Segundo', 'Tercero', 'Cuarto', 'Quinto']"
      ]
     },
     "execution_count": 10,
     "metadata": {},
     "output_type": "execute_result"
    }
   ],
   "source": [
    "array[:5]"
   ]
  },
  {
   "cell_type": "code",
   "execution_count": 11,
   "metadata": {
    "slideshow": {
     "slide_type": "fragment"
    }
   },
   "outputs": [
    {
     "data": {
      "text/plain": [
       "['Cuarto', 'Quinto', 'Sexto', 'S\\xc3\\xa9ptimo', 'Octavo']"
      ]
     },
     "execution_count": 11,
     "metadata": {},
     "output_type": "execute_result"
    }
   ],
   "source": [
    "array[-5:]"
   ]
  },
  {
   "cell_type": "markdown",
   "metadata": {
    "slideshow": {
     "slide_type": "slide"
    }
   },
   "source": [
    "Eliminar los primeros (o últimos) valores de una secuencia. "
   ]
  },
  {
   "cell_type": "code",
   "execution_count": 12,
   "metadata": {
    "slideshow": {
     "slide_type": "fragment"
    }
   },
   "outputs": [
    {
     "data": {
      "text/plain": [
       "['Quinto', 'Sexto', 'S\\xc3\\xa9ptimo', 'Octavo']"
      ]
     },
     "execution_count": 12,
     "metadata": {},
     "output_type": "execute_result"
    }
   ],
   "source": [
    "array[4:]"
   ]
  },
  {
   "cell_type": "code",
   "execution_count": 13,
   "metadata": {
    "slideshow": {
     "slide_type": "fragment"
    }
   },
   "outputs": [
    {
     "data": {
      "text/plain": [
       "['Primero', 'Segundo', 'Tercero', 'Cuarto']"
      ]
     },
     "execution_count": 13,
     "metadata": {},
     "output_type": "execute_result"
    }
   ],
   "source": [
    "array[:-4]"
   ]
  },
  {
   "cell_type": "markdown",
   "metadata": {
    "slideshow": {
     "slide_type": "slide"
    }
   },
   "source": [
    "#### El step, ¿Para que sirve?\n",
    "\n",
    "Indica cómo se incrementará el índice para la selección de la sublista. Por defecto vale 1, con lo que se seleccionan todos los elementos.\n",
    "\n",
    "Si no queremos seleccionar todos los elementos, sólo los elementos de posiciones pares podemos hacer lo siguiente:"
   ]
  },
  {
   "cell_type": "code",
   "execution_count": 14,
   "metadata": {
    "slideshow": {
     "slide_type": "fragment"
    }
   },
   "outputs": [
    {
     "name": "stdout",
     "output_type": "stream",
     "text": [
      "['Primero', 'Segundo', 'Tercero', 'Cuarto', 'Quinto', 'Sexto', 'S\\xc3\\xa9ptimo', 'Octavo']\n"
     ]
    },
    {
     "data": {
      "text/plain": [
       "['Primero', 'Tercero', 'Quinto', 'S\\xc3\\xa9ptimo']"
      ]
     },
     "execution_count": 14,
     "metadata": {},
     "output_type": "execute_result"
    }
   ],
   "source": [
    "print(array)\n",
    "array[::2]"
   ]
  },
  {
   "cell_type": "markdown",
   "metadata": {
    "slideshow": {
     "slide_type": "slide"
    }
   },
   "source": [
    "Su uso más extendido és para invertir el orden de una lista. Si durante la selección de la sublista incrementamos el índice al revés se consigue este efecto."
   ]
  },
  {
   "cell_type": "code",
   "execution_count": 15,
   "metadata": {
    "slideshow": {
     "slide_type": "fragment"
    }
   },
   "outputs": [
    {
     "data": {
      "text/plain": [
       "['Octavo',\n",
       " 'S\\xc3\\xa9ptimo',\n",
       " 'Sexto',\n",
       " 'Quinto',\n",
       " 'Cuarto',\n",
       " 'Tercero',\n",
       " 'Segundo',\n",
       " 'Primero']"
      ]
     },
     "execution_count": 15,
     "metadata": {},
     "output_type": "execute_result"
    }
   ],
   "source": [
    "array[::-1]"
   ]
  },
  {
   "cell_type": "markdown",
   "metadata": {
    "slideshow": {
     "slide_type": "slide"
    }
   },
   "source": [
    "### Vector de booleanos\n",
    "\n",
    "**Atención!** Sólo para Numpy y Pandas."
   ]
  },
  {
   "cell_type": "code",
   "execution_count": 16,
   "metadata": {
    "slideshow": {
     "slide_type": "fragment"
    }
   },
   "outputs": [],
   "source": [
    "import numpy as np\n",
    "array = np.asarray(array)"
   ]
  },
  {
   "cell_type": "code",
   "execution_count": 17,
   "metadata": {
    "slideshow": {
     "slide_type": "fragment"
    }
   },
   "outputs": [
    {
     "data": {
      "text/plain": [
       "[False, False, False, False, False, False, False, False]"
      ]
     },
     "execution_count": 17,
     "metadata": {},
     "output_type": "execute_result"
    }
   ],
   "source": [
    "boolvect = [False]*8\n",
    "boolvect"
   ]
  },
  {
   "cell_type": "markdown",
   "metadata": {},
   "source": [
    "**IMPORTANTE:** El vector de booleanos debe tener la misma extensión que el array que se quiere indexar."
   ]
  },
  {
   "cell_type": "code",
   "execution_count": 18,
   "metadata": {
    "slideshow": {
     "slide_type": "slide"
    }
   },
   "outputs": [
    {
     "data": {
      "text/plain": [
       "array([], dtype='|S8')"
      ]
     },
     "execution_count": 18,
     "metadata": {},
     "output_type": "execute_result"
    }
   ],
   "source": [
    "array[boolvect]"
   ]
  },
  {
   "cell_type": "code",
   "execution_count": 19,
   "metadata": {
    "slideshow": {
     "slide_type": "fragment"
    }
   },
   "outputs": [
    {
     "data": {
      "text/plain": [
       "array(['Octavo'], dtype='|S8')"
      ]
     },
     "execution_count": 19,
     "metadata": {},
     "output_type": "execute_result"
    }
   ],
   "source": [
    "boolvect[7] = True\n",
    "array[boolvect]"
   ]
  },
  {
   "cell_type": "code",
   "execution_count": 20,
   "metadata": {
    "slideshow": {
     "slide_type": "fragment"
    }
   },
   "outputs": [
    {
     "data": {
      "text/plain": [
       "array(['Quinto', 'Octavo'], dtype='|S8')"
      ]
     },
     "execution_count": 20,
     "metadata": {},
     "output_type": "execute_result"
    }
   ],
   "source": [
    "boolvect[4] = True\n",
    "array[boolvect]"
   ]
  },
  {
   "cell_type": "code",
   "execution_count": 21,
   "metadata": {
    "slideshow": {
     "slide_type": "fragment"
    }
   },
   "outputs": [
    {
     "data": {
      "text/plain": [
       "[False, False, False, False, True, False, False, True]"
      ]
     },
     "execution_count": 21,
     "metadata": {},
     "output_type": "execute_result"
    }
   ],
   "source": [
    "boolvect"
   ]
  },
  {
   "cell_type": "markdown",
   "metadata": {},
   "source": [
    "Una manera de obtener un array de booleanos és mediante una comparación. En el siguiente ejemplo calculamos un array de booleanos con valor ```True``` en todas las posiciones del array con el valor \"Primero\"."
   ]
  },
  {
   "cell_type": "code",
   "execution_count": 22,
   "metadata": {},
   "outputs": [
    {
     "data": {
      "text/plain": [
       "array([ True, False, False, False, False, False, False, False])"
      ]
     },
     "execution_count": 22,
     "metadata": {},
     "output_type": "execute_result"
    }
   ],
   "source": [
    "array==\"Primero\""
   ]
  },
  {
   "cell_type": "code",
   "execution_count": 23,
   "metadata": {},
   "outputs": [
    {
     "data": {
      "text/plain": [
       "array([1, 2, 3, 4, 2, 5])"
      ]
     },
     "execution_count": 23,
     "metadata": {},
     "output_type": "execute_result"
    }
   ],
   "source": [
    "array1 = np.array([1,2,3,4,2,5])\n",
    "array1"
   ]
  },
  {
   "cell_type": "code",
   "execution_count": 24,
   "metadata": {},
   "outputs": [
    {
     "data": {
      "text/plain": [
       "array([False,  True, False, False,  True, False])"
      ]
     },
     "execution_count": 24,
     "metadata": {},
     "output_type": "execute_result"
    }
   ],
   "source": [
    "array1==2"
   ]
  },
  {
   "cell_type": "markdown",
   "metadata": {},
   "source": [
    "## 4. Ejercicios\n",
    "\n",
    "A continuación tenemos los datos que utilizaremos para realizar los ejercicios."
   ]
  },
  {
   "cell_type": "code",
   "execution_count": 25,
   "metadata": {},
   "outputs": [],
   "source": [
    "lista = [\"Primero\", \"Segundo\", \"Tercero\", \"Cuarto\", \"Quinto\", \"Sexto\", \"Séptimo\", \"Octavo\"]\n",
    "nparray = np.array([1,4,6,\"BUSCAME\",89,2,4,5])\n",
    "diccionario = {\n",
    "    \"key1\": [],\n",
    "    \"key2\": [1, 2, 3],\n",
    "    \"key3\": 90.6\n",
    "}"
   ]
  },
  {
   "cell_type": "markdown",
   "metadata": {},
   "source": [
    "**1) Consulta el tercer elemento de \"lista\".**"
   ]
  },
  {
   "cell_type": "code",
   "execution_count": null,
   "metadata": {},
   "outputs": [],
   "source": []
  },
  {
   "cell_type": "markdown",
   "metadata": {},
   "source": [
    "**2) Consulta el elemento asociado a la cadena de caracteres \"key3\" de \"diccionario\".**"
   ]
  },
  {
   "cell_type": "markdown",
   "metadata": {},
   "source": [
    "**3)  Consulta el penúltimo elemento de \"lista\".**"
   ]
  },
  {
   "cell_type": "markdown",
   "metadata": {},
   "source": [
    "**4) Obtén la lista con los 3 primeros elementos de \"lista\".**"
   ]
  },
  {
   "cell_type": "markdown",
   "metadata": {},
   "source": [
    "**5) Obtén la lista con los 4 últimos elementos de \"lista\".**"
   ]
  },
  {
   "cell_type": "markdown",
   "metadata": {},
   "source": [
    "**6) Indexar con booleanos. A partir de \"ndarray\" crea un array con el elemento \"BUSCAME\".**"
   ]
  },
  {
   "cell_type": "markdown",
   "metadata": {},
   "source": [
    "**7) Obtén la lista con los elementos pares de  la lista \"lista\".**\n",
    "\n",
    "Resultado buscado: ['Segundo', 'Cuarto', 'Sexto', 'Octavo']"
   ]
  },
  {
   "cell_type": "code",
   "execution_count": null,
   "metadata": {},
   "outputs": [],
   "source": []
  }
 ],
 "metadata": {
  "celltoolbar": "Slideshow",
  "kernelspec": {
   "display_name": "Python 3",
   "language": "python",
   "name": "python3"
  },
  "language_info": {
   "codemirror_mode": {
    "name": "ipython",
    "version": 3
   },
   "file_extension": ".py",
   "mimetype": "text/x-python",
   "name": "python",
   "nbconvert_exporter": "python",
   "pygments_lexer": "ipython3",
   "version": "3.7.4"
  }
 },
 "nbformat": 4,
 "nbformat_minor": 2
}
