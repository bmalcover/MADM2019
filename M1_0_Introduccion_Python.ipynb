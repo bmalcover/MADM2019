{
 "cells": [
  {
   "cell_type": "markdown",
   "metadata": {
    "slideshow": {
     "slide_type": "slide"
    }
   },
   "source": [
    "# Introducción a Python"
   ]
  },
  {
   "cell_type": "markdown",
   "metadata": {
    "slideshow": {
     "slide_type": "slide"
    }
   },
   "source": [
    "## Contenido\n",
    "\n",
    "1. Tipos de datos\n",
    "2. Estructuras\n",
    "3. Indexación\n",
    "4. Ejercicios"
   ]
  },
  {
   "cell_type": "markdown",
   "metadata": {
    "slideshow": {
     "slide_type": "slide"
    }
   },
   "source": [
    "### 1. Tipos de datos \n",
    "\n",
    "Estos son los tipos de datos básicos.\n",
    "\n",
    "* Números enteros: -1000, -2, 0, 33, 1234\n",
    "* Números decimales: -1.2, 0.3, 334.34\n",
    "* Cadenas de carácteres (*String*): \"Hola!\"\n",
    "* Booleanos: True, False.\n"
   ]
  },
  {
   "cell_type": "code",
   "execution_count": null,
   "metadata": {
    "slideshow": {
     "slide_type": "fragment"
    }
   },
   "outputs": [],
   "source": [
    "type(85.5)"
   ]
  },
  {
   "cell_type": "markdown",
   "metadata": {},
   "source": [
    "### 2. Variables\n",
    "\n",
    "Los datos que se utilizan dentro de los programas se guardan dentro de lo que se llaman variables.\n",
    "\n",
    "Tienen tres características que las definen completamente: nombre, tipo y valor.\n",
    "\n",
    "Pueden ser de un tipo de los que hemos visto anteriormente (básicos) o de tipos complejos como los que veremos a continuación.\n",
    "\n",
    "Vamos a ver que podemos hacer con ellas:"
   ]
  },
  {
   "cell_type": "code",
   "execution_count": null,
   "metadata": {},
   "outputs": [],
   "source": [
    "# Las variables pueden definirse con un valor inicial\n",
    "x = 3\n",
    "\n",
    "# Podemos crear tantas como queramos o sea necesario\n",
    "\n",
    "\n",
    "\n",
    "# Las podemos operar aritmèticamente o comparar\n",
    "\n",
    "\n",
    "\n",
    "# Podemos mostrarlas por pantalla\n",
    "\n"
   ]
  },
  {
   "cell_type": "markdown",
   "metadata": {
    "slideshow": {
     "slide_type": "slide"
    }
   },
   "source": [
    "### 2. Estructuras de datos\n",
    "\n",
    "Las estructuras básicas de Python para organizar los datos son las listas y los diccionarios.\n",
    "\n"
   ]
  },
  {
   "cell_type": "markdown",
   "metadata": {},
   "source": [
    "**Listas**\n",
    "\n",
    "Es una colección ordenada de elementos, no tienen por que ser del mismo tipo.\n",
    "\n",
    "Si nos fijamos las listas son tipos de datos complejos ya que estan formados de otros tipos mas sencillos."
   ]
  },
  {
   "cell_type": "code",
   "execution_count": null,
   "metadata": {},
   "outputs": [],
   "source": [
    "lista = []\n",
    "lista2 = [1, 2, 4]\n",
    "lista3 = [\"uno\", \"dos\", \"tres\"]\n",
    "lista4 = [1, \"dos\", 3.2]"
   ]
  },
  {
   "cell_type": "markdown",
   "metadata": {},
   "source": [
    "El operador ```in``` permite comprobar si un elemento esta dentro de una lista\n",
    "\n",
    "```python\n",
    "4 in [3, 4, 5, 6]\n",
    "True\n",
    "0 in [3, 4, 5, 6]\n",
    "False\n",
    "```\n",
    "\n"
   ]
  },
  {
   "cell_type": "markdown",
   "metadata": {},
   "source": [
    "Podemos añadir elementos al final de las listas mediante el nombre de la lista y el sufijo ```nombre.append()```.\n",
    "\n",
    "También podemos concatenar listas usando el operador ```+```.\n",
    "\n",
    "```python\n",
    "\n",
    "a = [1, 2, 3]\n",
    "b = [4, 5, 6]\n",
    "c = a+b\n",
    "print(c)\n",
    "[1, 2, 3, 4, 5, 6]\n",
    "\n",
    "a.append(4)\n",
    "print(a)\n",
    "[1, 2, 3, 4]\n",
    "``` "
   ]
  },
  {
   "cell_type": "code",
   "execution_count": null,
   "metadata": {},
   "outputs": [],
   "source": [
    "# Cómo podemos saber la longitud de una lista?\n",
    "\n",
    "\n",
    "\n",
    "\n"
   ]
  },
  {
   "cell_type": "markdown",
   "metadata": {
    "slideshow": {
     "slide_type": "slide"
    }
   },
   "source": [
    "**Diccionarios**\n",
    "\n",
    "Son estructuras  que nos relacionan una clave con un valor mediante la aplicación de una función llamada *hash*. A diferencia de las listas no son estructuras ordenadas. Se crean usando los *curly brackets*.\n",
    "```python\n",
    "mi_diccionario = {}\n",
    "```\n",
    "Creo la clave contacto y le asigno un nombre\n",
    "```python\n",
    "mi_diccionario['contacto'] = 'Juan'\n",
    "mi_diccionario['telefono'] = 123456\n",
    "mi_diccionario['edad'] = 30\n",
    "```\n",
    "\n",
    "Accedo al valor de la clave 'telefono'\n",
    "\n",
    "```python\n",
    "print(mi_diccionario['telefono'])\n",
    "123456\n",
    "```"
   ]
  },
  {
   "cell_type": "code",
   "execution_count": null,
   "metadata": {
    "slideshow": {
     "slide_type": "fragment"
    }
   },
   "outputs": [],
   "source": [
    "dict1 ={}\n",
    "dict2 ={\n",
    "    \"key1\": [\"uep!\", \"com anam?\"], # un diccionario puede tener una lista como valor\n",
    "    \"key2\": \"valor 2\", # o un string\n",
    "    \"key3\": 3 # o un número entero\n",
    "}"
   ]
  },
  {
   "cell_type": "code",
   "execution_count": null,
   "metadata": {
    "slideshow": {
     "slide_type": "fragment"
    }
   },
   "outputs": [],
   "source": [
    "notas = {'Pedro': 9, 'Maria':10, 'Luis':8.5}\n",
    "\n",
    "# Qué nota ha sacado María ?\n",
    "\n",
    "\n",
    "# Qué pasa si intentamos acceder a un nombre que no existe?\n",
    "\n",
    "\n",
    "\n",
    "# Prueba ahora con notas.get('pepe'), ves alguna diferencia?\n",
    "\n",
    "\n",
    "\n",
    "# Hay alguna manera de obtener todas las claves de un diccionario?"
   ]
  },
  {
   "cell_type": "markdown",
   "metadata": {
    "slideshow": {
     "slide_type": "slide"
    }
   },
   "source": [
    "\n",
    "## 3. Indexación\n",
    "\n",
    "Como acceder a los elementos de una lista.\n",
    "\n",
    "* Consultar un elemento.\n",
    "* Consultar un sub-array.\n",
    "  * Por posición.\n",
    "  * Vector de booleanos."
   ]
  },
  {
   "cell_type": "markdown",
   "metadata": {
    "slideshow": {
     "slide_type": "slide"
    }
   },
   "source": [
    "## Consultar un elemento de una lista"
   ]
  },
  {
   "cell_type": "code",
   "execution_count": null,
   "metadata": {
    "slideshow": {
     "slide_type": "fragment"
    }
   },
   "outputs": [],
   "source": [
    "l = [\"Primero\", \"Segundo\", \"Tercero\", \"Cuarto\", \"Quinto\", \"Sexto\", \"Séptimo\", \"Octavo\"]"
   ]
  },
  {
   "cell_type": "markdown",
   "metadata": {
    "slideshow": {
     "slide_type": "slide"
    }
   },
   "source": [
    "Las listas empiezan en la posición 0 y acaban en la posición: *número de elementos* - 1 \n",
    "\n",
    "Así que, para consultar el primer elemento hacemos lo siguiente:"
   ]
  },
  {
   "cell_type": "code",
   "execution_count": null,
   "metadata": {
    "slideshow": {
     "slide_type": "fragment"
    }
   },
   "outputs": [],
   "source": [
    "l[0]"
   ]
  },
  {
   "cell_type": "markdown",
   "metadata": {
    "slideshow": {
     "slide_type": "slide"
    }
   },
   "source": [
    "**¿Cómo consultariamos el quinto elemento?**"
   ]
  },
  {
   "cell_type": "code",
   "execution_count": null,
   "metadata": {
    "slideshow": {
     "slide_type": "fragment"
    }
   },
   "outputs": [],
   "source": []
  },
  {
   "cell_type": "markdown",
   "metadata": {
    "slideshow": {
     "slide_type": "slide"
    }
   },
   "source": [
    "### Acceso inverso\n",
    "\n",
    "¿Cómo consultamos el último elemento de un array del que no conocemos su longitud?"
   ]
  },
  {
   "cell_type": "code",
   "execution_count": null,
   "metadata": {
    "slideshow": {
     "slide_type": "fragment"
    }
   },
   "outputs": [],
   "source": [
    "l[-1]"
   ]
  },
  {
   "cell_type": "markdown",
   "metadata": {
    "slideshow": {
     "slide_type": "fragment"
    }
   },
   "source": [
    "Siguiendo esta lógica, ¿Podemos consultar el antepenúltimo sin saber la longitud de la lista?"
   ]
  },
  {
   "cell_type": "code",
   "execution_count": null,
   "metadata": {},
   "outputs": [],
   "source": []
  },
  {
   "cell_type": "markdown",
   "metadata": {
    "slideshow": {
     "slide_type": "slide"
    }
   },
   "source": [
    "## Accesso a sublistas\n",
    "\n",
    "Tècnicas: \n",
    "* Slicing\n",
    "* Vector de booleanos"
   ]
  },
  {
   "cell_type": "markdown",
   "metadata": {
    "slideshow": {
     "slide_type": "slide"
    }
   },
   "source": [
    "### Slicing\n",
    "\n",
    "El slicing se aplica a las listas siguiendo la siguiente lógica:\n",
    "```{python}\n",
    "sublista = lista[start:stop:step]\n",
    "```\n",
    "\n",
    "* **start** Posición de la lista original dónde empieza la sublista. Si no se indica és 0.\n",
    "* **stop**  Posición de la lista original hasta donde seleccionar. Si no se indica és la última posición.\n",
    "* **step**  Incremento entre cada índice de la selección, por defecto 1.\n",
    "\n",
    "El resultado es un vector con los elementos seleccionados.\n",
    "\n",
    "Veamos un ejemplo. Para seleccionar desde el segundo elemento al quinto podriamos hacer como sigue:"
   ]
  },
  {
   "cell_type": "code",
   "execution_count": null,
   "metadata": {
    "slideshow": {
     "slide_type": "fragment"
    }
   },
   "outputs": [],
   "source": [
    "array[1:5]"
   ]
  },
  {
   "cell_type": "markdown",
   "metadata": {
    "slideshow": {
     "slide_type": "slide"
    }
   },
   "source": [
    "Usos típicos:\n",
    "* Seleccionar los n primeros (o últimos) elementos de una lista.\n",
    "* Eliminar los primeros (o últimos) valores de una secuencia."
   ]
  },
  {
   "cell_type": "code",
   "execution_count": null,
   "metadata": {
    "slideshow": {
     "slide_type": "fragment"
    }
   },
   "outputs": [],
   "source": [
    "array[:5]"
   ]
  },
  {
   "cell_type": "code",
   "execution_count": null,
   "metadata": {
    "slideshow": {
     "slide_type": "fragment"
    }
   },
   "outputs": [],
   "source": [
    "array[-5:]"
   ]
  },
  {
   "cell_type": "markdown",
   "metadata": {
    "slideshow": {
     "slide_type": "slide"
    }
   },
   "source": [
    "Eliminar los primeros (o últimos) valores de una secuencia. "
   ]
  },
  {
   "cell_type": "code",
   "execution_count": null,
   "metadata": {
    "slideshow": {
     "slide_type": "fragment"
    }
   },
   "outputs": [],
   "source": [
    "array[4:]"
   ]
  },
  {
   "cell_type": "code",
   "execution_count": null,
   "metadata": {
    "slideshow": {
     "slide_type": "fragment"
    }
   },
   "outputs": [],
   "source": [
    "array[:-4]"
   ]
  },
  {
   "cell_type": "markdown",
   "metadata": {
    "slideshow": {
     "slide_type": "slide"
    }
   },
   "source": [
    "#### El step, ¿Para que sirve?\n",
    "\n",
    "Indica cómo se incrementará el índice para la selección de la sublista. Por defecto vale 1, con lo que se seleccionan todos los elementos.\n",
    "\n",
    "Si no queremos seleccionar todos los elementos, sólo los elementos de posiciones pares podemos hacer lo siguiente:"
   ]
  },
  {
   "cell_type": "code",
   "execution_count": null,
   "metadata": {
    "slideshow": {
     "slide_type": "fragment"
    }
   },
   "outputs": [],
   "source": [
    "print(array)\n",
    "array[::2]"
   ]
  },
  {
   "cell_type": "markdown",
   "metadata": {
    "slideshow": {
     "slide_type": "slide"
    }
   },
   "source": [
    "Su uso más extendido és para invertir el orden de una lista. Si durante la selección de la sublista incrementamos el índice al revés se consigue este efecto."
   ]
  },
  {
   "cell_type": "code",
   "execution_count": null,
   "metadata": {
    "slideshow": {
     "slide_type": "fragment"
    }
   },
   "outputs": [],
   "source": [
    "array[::-1]"
   ]
  },
  {
   "cell_type": "markdown",
   "metadata": {},
   "source": [
    "## 4. Ejercicios\n",
    "\n",
    "A continuación tenemos los datos que utilizaremos para realizar los ejercicios."
   ]
  },
  {
   "cell_type": "code",
   "execution_count": null,
   "metadata": {},
   "outputs": [],
   "source": [
    "lista = [\"Primero\", \"Segundo\", \"Tercero\", \"Cuarto\", \"Quinto\", \"Sexto\", \"Séptimo\", \"Octavo\"]\n",
    "dicc = {\n",
    "    \"key1\": [],\n",
    "    \"key2\": [1, 2, 3],\n",
    "    \"key3\": 90.6\n",
    "}"
   ]
  },
  {
   "cell_type": "markdown",
   "metadata": {},
   "source": [
    "**0) Crea dos variables numéricas con valores diferentes, son iguales?**\n",
    "\n",
    "**0.1) Suma las dos variables guardando el resultado en una variable nueva y muestra el resultado**\n",
    "\n",
    "**0.2) Al resultado obtenido restale 55 y dividelo entre 3. Muestralo por pantalla.**"
   ]
  },
  {
   "cell_type": "markdown",
   "metadata": {},
   "source": [
    "**1) Crea una lista llamada *num* que tenga los números del 1 al 5. Guarda el valor que ocupa la tercera posición en una variable llamada *x* y suma 45. Muestra el valor de *x* con la función *print*.**"
   ]
  },
  {
   "cell_type": "code",
   "execution_count": null,
   "metadata": {},
   "outputs": [],
   "source": []
  },
  {
   "cell_type": "markdown",
   "metadata": {},
   "source": [
    "**2) Consulta el elemento asociado a la cadena de caracteres *key3* del diccionario de *dicc*. Añadelo a la lista que podemos obtener con la clave *key2*.** "
   ]
  },
  {
   "cell_type": "markdown",
   "metadata": {},
   "source": [
    "**3)  Consulta el penúltimo elemento de la lista *lista*. Comprueba que la palabra *Patata* no esta en ella.** "
   ]
  },
  {
   "cell_type": "markdown",
   "metadata": {},
   "source": [
    "**4) Obtén una nueva lista, llamada *sublista* con los 3 primeros elementos de la lista que has creado en el ejercicio 1. En segundo lugar, obtén una nueva lista llamada *final* con los 4 últimos elementos de \"lista\".**"
   ]
  },
  {
   "cell_type": "markdown",
   "metadata": {},
   "source": [
    "**5) Añade una nueva clave al diccionario *dicc* que tenga el resultado de concatenar la lista *sublista* a la lista *final* .**"
   ]
  },
  {
   "cell_type": "markdown",
   "metadata": {},
   "source": [
    "**6) Obtén una nueva lista con los elementos pares de  la lista \"lista\".**\n",
    "\n",
    "Resultado buscado: ['Segundo', 'Cuarto', 'Sexto', 'Octavo']"
   ]
  },
  {
   "cell_type": "markdown",
   "metadata": {},
   "source": [
    "## Extra!\n",
    "\n",
    "Si has llegado hasta aquí es que has entendido la lección, vamos a ampliar un poco los conocimientos adquiridos."
   ]
  },
  {
   "cell_type": "code",
   "execution_count": null,
   "metadata": {},
   "outputs": [],
   "source": [
    "# Vamos a usar una función llamada range que nos permite crear listas numéricas de forma \"automática\".\n",
    "\n",
    "#Podemos crear una lista en un rango\n",
    "auto = list(range(1, 10))\n",
    "\n",
    "print(auto)\n",
    "\n",
    "# También podemos usar la variable step\n",
    "\n",
    "auto2 = list(range(5,100, 5))\n",
    "print(auto2)\n",
    "\n"
   ]
  },
  {
   "cell_type": "markdown",
   "metadata": {},
   "source": [
    "**Extra 1. Realmente yo queria que la lista auto2  fuese una lista hasta el número 100, pero de 10 en 10. Como lo harías?** \n",
    "\n",
    "**Serías capaz de generar una lista con los números del 1 al 10 pero de forma descendente.** *Ayuda: Utiliza un step negativo.*\n"
   ]
  },
  {
   "cell_type": "code",
   "execution_count": null,
   "metadata": {},
   "outputs": [],
   "source": []
  },
  {
   "cell_type": "markdown",
   "metadata": {},
   "source": [
    "### Funciones\n",
    "\n",
    "Las listas tienen un conjunto de funciones asociadas que podemos usar para resolver nuestros problemas:\n",
    "\n",
    "Supongamos que tenemos la lista \n",
    "```{python}\n",
    "a = [10, 20, 10, 50, 33]\n",
    "```\n",
    "**insert(i, x)**\n",
    "\n",
    "   Insertar un elemento en una posición determinada. El primer argumento es el índice del elemento antes del cual insertar, por lo que a.insert(0, x) se inserta al principio de la lista.\n",
    "\n",
    "**remove(x)**\n",
    "\n",
    "   Elimina el primer elemento de la lista cuyo valor es igual a x. Nos devuelve un error si no existe tal elemento.\n",
    "\n",
    "**pop([i])**\n",
    "\n",
    "   Elimina el elemento en la posición dada en la lista y nos lo devuelve. Si no se especifica ningún índice, a.pop() elimina y devuelve el último elemento de la lista. \n",
    "   \n",
    "   Los corchetes alrededor de la *i* en la llamada del método denotan que el parámetro es opcional, no que debe escribir corchetes en esa posición. Esta notación con frecuencia en la Python.\n",
    "\n",
    "**clear()**\n",
    "\n",
    "   Elimina todos los elementos de la lista.\n",
    "   \n",
    "**index(x)**\n",
    "\n",
    "   Devuelve el índice, basado en cero, en la lista del primer elemento cuyo valor es igual a x. Provoca un error si no existe dicho elemento.\n",
    "\n",
    "   Los argumentos opcionales start y end se interpretan como en la notación de corte y se usan para limitar la búsqueda a una subsecuencia particular de la lista. El índice devuelto se calcula en relación con el comienzo de la secuencia completa en lugar del argumento de inicio.\n",
    "\n",
    "**count(x)**\n",
    "\n",
    "  Devuelve el número de veces que x aparece en la lista.\n",
    "\n",
    "**sort(key=None, reverse=False)**\n",
    "\n",
    "  Ordena los elementos de la lista, los argumentos se pueden usar para la personalización de la ordenación.\n",
    "\n",
    "**reverse()**\n",
    "\n",
    "  Invierte los elementos de la lista.\n",
    "  \n",
    "  \n",
    "\n",
    "[Documentación oficial](https://docs.python.org/3/tutorial/datastructures.html#more-on-lists)\n",
    "\n",
    "\n",
    "**max(), min()**: Nos devuelve el valor mínimo y el máximo de la lista."
   ]
  },
  {
   "cell_type": "markdown",
   "metadata": {},
   "source": [
    "**Extra2: Dada la lista *a*, puedes obtener el segundo elemento mayor?**"
   ]
  },
  {
   "cell_type": "markdown",
   "metadata": {},
   "source": [
    "**Extra 3: Inserta el valor 33 en tercera posición de la lista *a*. Cúantas veces aparece dicho valor?** "
   ]
  },
  {
   "cell_type": "markdown",
   "metadata": {},
   "source": [
    "**Extra 4: Usando la función pop, obtén el primer elemento de la lista. Insertalo al final y en su posición central.**"
   ]
  }
 ],
 "metadata": {
  "kernelspec": {
   "display_name": "Python 3",
   "language": "python",
   "name": "python3"
  },
  "language_info": {
   "codemirror_mode": {
    "name": "ipython",
    "version": 3
   },
   "file_extension": ".py",
   "mimetype": "text/x-python",
   "name": "python",
   "nbconvert_exporter": "python",
   "pygments_lexer": "ipython3",
   "version": "3.7.4"
  }
 },
 "nbformat": 4,
 "nbformat_minor": 2
}
